{
 "cells": [
  {
   "cell_type": "code",
   "execution_count": 25,
   "metadata": {},
   "outputs": [
    {
     "data": {
      "text/plain": [
       "'Assalam-o-Alaikum!'"
      ]
     },
     "execution_count": 25,
     "metadata": {},
     "output_type": "execute_result"
    }
   ],
   "source": [
    "greetings = \"Assalam-o-Alaikum!\"\n",
    "greetings"
   ]
  },
  {
   "cell_type": "markdown",
   "metadata": {},
   "source": [
    "## Combinations and Permutations"
   ]
  },
  {
   "cell_type": "code",
   "execution_count": 1,
   "metadata": {},
   "outputs": [],
   "source": [
    "import math\n",
    "from sympy import *"
   ]
  },
  {
   "cell_type": "code",
   "execution_count": 32,
   "metadata": {},
   "outputs": [
    {
     "name": "stdout",
     "output_type": "stream",
     "text": [
      "permutations of assignments to people are 120\n"
     ]
    }
   ],
   "source": [
    "# 5 assignments assign to 5 people\n",
    "a = math.perm(5, 5)\n",
    "print(\"permutations of assignments to people are \" + str(a))"
   ]
  },
  {
   "cell_type": "code",
   "execution_count": 41,
   "metadata": {},
   "outputs": [
    {
     "name": "stdout",
     "output_type": "stream",
     "text": [
      "permutations of lottery are 360\n",
      "possible combinations of four balls = 15.0\n"
     ]
    }
   ],
   "source": [
    "# 6 lottery and location 4\n",
    "\n",
    "b = math.perm(6, 4)\n",
    "print(\"permutations of lottery are \" + str(b))\n",
    "\n",
    "# correct guess numbers\n",
    "\n",
    "c = math.perm(4, 4)\n",
    "\n",
    "guess = b/c\n",
    "print(\"possible combinations of four balls = \" + str(guess))"
   ]
  },
  {
   "cell_type": "code",
   "execution_count": 49,
   "metadata": {},
   "outputs": [
    {
     "name": "stdout",
     "output_type": "stream",
     "text": [
      "There are 336 unique ways to assign 8 people to 3 machineries.\n"
     ]
    }
   ],
   "source": [
    "# how many unique ways to assign 3 machineries to 8 people\n",
    "\n",
    "people = 8\n",
    "machinery = 3\n",
    "ways = math.perm(8, 3)\n",
    "print(\"There are \" + str(ways) + \" unique ways to assign \" + str(people) + \" people to \" + str(machinery) + \" machineries.\")"
   ]
  },
  {
   "cell_type": "code",
   "execution_count": 50,
   "metadata": {},
   "outputs": [
    {
     "name": "stdout",
     "output_type": "stream",
     "text": [
      "There are 56 unique ways to assign 8 people to 3 machineries.\n"
     ]
    }
   ],
   "source": [
    "# how many combinations to assign 3 machineries to a team of 8 people\n",
    "\n",
    "people = 8\n",
    "machinery = 3\n",
    "teams = math.comb(8, 3)\n",
    "print(\"There are \" + str(teams) + \" unique ways to assign \" + str(people) + \" people to \" + str(machinery) + \" machineries.\")"
   ]
  },
  {
   "cell_type": "code",
   "execution_count": 56,
   "metadata": {},
   "outputs": [
    {
     "name": "stdout",
     "output_type": "stream",
     "text": [
      "Probability of blue balls with replacement 0.3333333333333333\n",
      "\n",
      "Probability of white balls with replacement 0.6666666666666666\n"
     ]
    }
   ],
   "source": [
    "# with Replacement and without replacement\n",
    "\n",
    "jar = 1\n",
    "balls = 3\n",
    "white = 2\n",
    "blue = 1\n",
    "\n",
    "# blue balls with replacement\n",
    "blue_with_rep = blue / balls\n",
    "print(\"Probability of blue balls with replacement \" + str(blue_with_rep) + \"\\n\")\n",
    "\n",
    "# white balls with replacement \n",
    "white_with_rep = white / balls\n",
    "print(\"Probability of white balls with replacement \" + str(white_with_rep))"
   ]
  },
  {
   "cell_type": "code",
   "execution_count": 58,
   "metadata": {},
   "outputs": [
    {
     "name": "stdout",
     "output_type": "stream",
     "text": [
      "Probability of picking 2 white balls in a row = 0.4444444444444444\n"
     ]
    }
   ],
   "source": [
    "# Probability of picking 2 white balls in a row with replacement\n",
    "\n",
    "white_row = (white / balls) * (white / balls)\n",
    "print(\"Probability of picking 2 white balls in a row = \" + str(white_row))"
   ]
  },
  {
   "cell_type": "code",
   "execution_count": 59,
   "metadata": {},
   "outputs": [
    {
     "name": "stdout",
     "output_type": "stream",
     "text": [
      "Probability of picking 2 white balls in a row without replacement 0.3333333333333333\n"
     ]
    }
   ],
   "source": [
    "# Probability of picking 2 white balls in a row without replacement\n",
    "\n",
    "white_without_rep = (white / balls) * ((white - 1) / (balls - 1))\n",
    "print(\"Probability of picking 2 white balls in a row without replacement \" + str(white_without_rep))"
   ]
  },
  {
   "cell_type": "code",
   "execution_count": 62,
   "metadata": {},
   "outputs": [
    {
     "name": "stdout",
     "output_type": "stream",
     "text": [
      "factorial of five is 120\n"
     ]
    }
   ],
   "source": [
    "# Factorial\n",
    "\n",
    "five = math.factorial(5)\n",
    "print(\"factorial of five is \" + str(five))"
   ]
  },
  {
   "cell_type": "code",
   "execution_count": 64,
   "metadata": {},
   "outputs": [
    {
     "name": "stdout",
     "output_type": "stream",
     "text": [
      "factorial of 7!/5! is 42.0\n"
     ]
    }
   ],
   "source": [
    "# factorial 7! / 5!\n",
    "\n",
    "seven_five = math.factorial(7) / math.factorial(5)\n",
    "print(\"factorial of 7!/5! is \" + str(seven_five))"
   ]
  },
  {
   "cell_type": "code",
   "execution_count": 65,
   "metadata": {},
   "outputs": [
    {
     "data": {
      "text/plain": [
       "1"
      ]
     },
     "execution_count": 65,
     "metadata": {},
     "output_type": "execute_result"
    }
   ],
   "source": [
    "# factorial 0!\n",
    "\n",
    "zero = math.factorial(0)\n",
    "zero"
   ]
  },
  {
   "cell_type": "code",
   "execution_count": 66,
   "metadata": {},
   "outputs": [
    {
     "data": {
      "text/plain": [
       "252"
      ]
     },
     "execution_count": 66,
     "metadata": {},
     "output_type": "execute_result"
    }
   ],
   "source": [
    "# people = 10, unique groups of 5 people = ?\n",
    "\n",
    "people = 10\n",
    "group = 5\n",
    "\n",
    "distinct_groups = math.comb(10, 5)\n",
    "distinct_groups"
   ]
  },
  {
   "cell_type": "code",
   "execution_count": 68,
   "metadata": {},
   "outputs": [
    {
     "data": {
      "text/plain": [
       "252"
      ]
     },
     "execution_count": 68,
     "metadata": {},
     "output_type": "execute_result"
    }
   ],
   "source": [
    "# teams of 5 people formed from 10 people = ?\n",
    "people = 10\n",
    "team = 5\n",
    "teams = math.comb(10, 5)\n",
    "teams"
   ]
  },
  {
   "cell_type": "markdown",
   "metadata": {},
   "source": [
    "## Bayes Theorem"
   ]
  },
  {
   "cell_type": "code",
   "execution_count": 13,
   "metadata": {},
   "outputs": [
    {
     "name": "stdout",
     "output_type": "stream",
     "text": [
      "Probability of 3 white marbles is 0.008000000000000002\n"
     ]
    }
   ],
   "source": [
    "# Probablilty with replacement\n",
    "\n",
    "A1 = 0.2\n",
    "A2 = 0.10\n",
    "white = 3\n",
    "urn1 = A1 * A1 * A1\n",
    "print(\"Probability of 3 white marbles is \" + str(urn1))"
   ]
  },
  {
   "cell_type": "code",
   "execution_count": 14,
   "metadata": {},
   "outputs": [
    {
     "name": "stdout",
     "output_type": "stream",
     "text": [
      "Probability of 3 white marbles is 0.0010000000000000002\n"
     ]
    }
   ],
   "source": [
    "# Probablilty with replacement\n",
    "\n",
    "A1 = 0.2\n",
    "A2 = 0.10\n",
    "white = 3\n",
    "urn2 = A2 ** white\n",
    "print(\"Probability of 3 white marbles is \" + str(urn2))"
   ]
  },
  {
   "cell_type": "raw",
   "metadata": {},
   "source": [
    "p(B|A1) P(A1) / (P(B|A1) P(A1) + P(B|A2) P(A2))"
   ]
  },
  {
   "cell_type": "code",
   "execution_count": 19,
   "metadata": {},
   "outputs": [
    {
     "name": "stdout",
     "output_type": "stream",
     "text": [
      "probability that we observe urn 1: 0.8888888888888888\n"
     ]
    }
   ],
   "source": [
    "# principle of inference\n",
    "pA1 = 0.5\n",
    "pA2 = 0.5\n",
    "\n",
    "inf_urn1 = (urn1 * pA1) / ((urn1 * pA1) + (urn2 * pA2))\n",
    "print(\"probability that we observe urn 1: \" + str(inf_urn1))"
   ]
  },
  {
   "cell_type": "code",
   "execution_count": 23,
   "metadata": {},
   "outputs": [
    {
     "name": "stdout",
     "output_type": "stream",
     "text": [
      "probability that we observe urn 1: 0.1111111111111111\n"
     ]
    }
   ],
   "source": [
    "# principle of inference\n",
    "pA1 = 0.5\n",
    "pA2 = 0.5\n",
    "\n",
    "inf_urn2 = (urn2 * pA2) / ((urn2 * pA2) + (urn1 * pA1))\n",
    "print(\"probability that we observe urn 1: \" + str(inf_urn2))"
   ]
  },
  {
   "cell_type": "code",
   "execution_count": 33,
   "metadata": {},
   "outputs": [
    {
     "name": "stdout",
     "output_type": "stream",
     "text": [
      "Probability of urn1= 94.11764705882354 percent \n",
      "\n",
      "Probability of urn2= 5.882352941176471 percent \n",
      "\n"
     ]
    }
   ],
   "source": [
    "# 3 whites and a 4th\n",
    "\n",
    "# P(urn1 | 3 whites and 4th)\n",
    "\n",
    "# P(white | urn1)(inf_urn1) / (P(white | urn1)(inf_urn1) + P(white | urn2)(inf_urn2)\n",
    "\n",
    "ans = ((A1 * inf_urn1) / ((A1 * inf_urn1) + (A2 * inf_urn2))) * 100\n",
    "print(\"Probability of urn1= \" + str(ans) + \" percent \\n\")\n",
    "\n",
    "ans2 = ((A2 * inf_urn2) / ((A2 * inf_urn2) + (A1 * inf_urn1))) * 100\n",
    "print(\"Probability of urn2= \" + str(ans2)+ \" percent \\n\")"
   ]
  },
  {
   "cell_type": "code",
   "execution_count": 1,
   "metadata": {},
   "outputs": [
    {
     "name": "stdout",
     "output_type": "stream",
     "text": [
      "3.943368702018233e-06\n"
     ]
    }
   ],
   "source": [
    "# Bbinomial Probability\n",
    "from scipy.stats import binom\n",
    "\n",
    "heads = 72\n",
    "coins = 100\n",
    "probability = 0.50\n",
    "binomial_probability = binom.pmf(k = heads, n = coins, p = probability)\n",
    "print(binomial_probability)"
   ]
  },
  {
   "cell_type": "code",
   "execution_count": 44,
   "metadata": {},
   "outputs": [
    {
     "data": {
      "text/plain": [
       "1.499998028315649"
      ]
     },
     "execution_count": 44,
     "metadata": {},
     "output_type": "execute_result"
    }
   ],
   "source": [
    "# Probability\n",
    "\n",
    "ans = (binomial_probability * probability) / ((binomial_probability * probability) + (1 - binomial_probability)*(probability)\n",
    "ans"
   ]
  },
  {
   "cell_type": "code",
   "execution_count": 5,
   "metadata": {},
   "outputs": [
    {
     "name": "stdout",
     "output_type": "stream",
     "text": [
      "Probability of getting exactly six heads with 0.5 probability = 0.20507812500000022\n"
     ]
    }
   ],
   "source": [
    "# Binomial Probability\n",
    "\n",
    "heads = 6\n",
    "coins = 10\n",
    "probability = 0.5\n",
    "ans = binom.pmf(k = heads, n = coins, p = probability)\n",
    "print(\"Probability of getting exactly six heads with 0.5 probability = \" + str(ans))"
   ]
  },
  {
   "cell_type": "code",
   "execution_count": 6,
   "metadata": {},
   "outputs": [
    {
     "name": "stdout",
     "output_type": "stream",
     "text": [
      "Probability of getting exactly six heads with 0.4 probability = 0.11147673600000013\n"
     ]
    }
   ],
   "source": [
    "# Binomial Probability\n",
    "\n",
    "heads = 6\n",
    "coins = 10\n",
    "probability = 0.4\n",
    "ans = binom.pmf(k = heads, n = coins, p = probability)\n",
    "print(\"Probability of getting exactly six heads with 0.4 probability = \" + str(ans))"
   ]
  },
  {
   "cell_type": "code",
   "execution_count": 27,
   "metadata": {},
   "outputs": [
    {
     "name": "stdout",
     "output_type": "stream",
     "text": [
      "Probability of getting exactly at least 8 heads with 0.4 probability = 0.12093235199999994\n"
     ]
    }
   ],
   "source": [
    "# Binomial Probability\n",
    "\n",
    "heads = 8\n",
    "coins = 10\n",
    "probability = 0.6\n",
    "ans = binom.pmf(k = heads, n = coins, p = probability)\n",
    "print(\"Probability of getting exactly at least 8 heads with 0.4 probability = \" + str(ans))"
   ]
  },
  {
   "cell_type": "code",
   "execution_count": 24,
   "metadata": {},
   "outputs": [
    {
     "name": "stdout",
     "output_type": "stream",
     "text": [
      " probability that a robbery will occur while a customer is in the store = 2.5e-07\n"
     ]
    }
   ],
   "source": [
    "# Conditional Probability\n",
    "\n",
    "customer_robbery = 0.1\n",
    "customer = 0.2\n",
    "robbery = 1/2000000\n",
    "\n",
    "prob = (customer_robbery * robbery) / customer\n",
    "print(\" probability that a robbery will occur while a customer is in the store = \" + str(prob))"
   ]
  },
  {
   "cell_type": "code",
   "execution_count": 32,
   "metadata": {},
   "outputs": [
    {
     "name": "stdout",
     "output_type": "stream",
     "text": [
      "Conditional Probability that I have Cancer, if I get a “Positive” test result for Cancer = 0.32142857142857145\n"
     ]
    }
   ],
   "source": [
    "#Conditional Probability: Bayes Theorem\n",
    "\n",
    "population_cancer = 5\n",
    "cancer_positive = 90\n",
    "cancer_negative = 10\n",
    "no_cancer_positive = 10\n",
    "no_cancer_negative = 90\n",
    "\n",
    "prob_cancer_and_test_positive = (cancer_positive * population_cancer) / ((cancer_positive * population_cancer) + (no_cancer_positive * (population_cancer + cancer_positive)))\n",
    "print(\"Conditional Probability that I have Cancer, if I get a “Positive” test result for Cancer = \" + str(prob_cancer_and_test_positive))"
   ]
  },
  {
   "cell_type": "code",
   "execution_count": 35,
   "metadata": {},
   "outputs": [
    {
     "name": "stdout",
     "output_type": "stream",
     "text": [
      "conditional probability that I have cancer, if I get a Negative test result for Cancer 0.9070294784580499\n"
     ]
    }
   ],
   "source": [
    "#Conditional Probability: Bayes Theorem\n",
    "\n",
    "population_cancer = 8\n",
    "cancer_positive = 90\n",
    "cancer_negative = 10\n",
    "no_cancer_positive = 5\n",
    "no_cancer_negative = 95\n",
    "\n",
    "prob_cancer_and_test_positive = (cancer_negative * population_cancer) / ((cancer_negative * population_cancer) + (no_cancer_negative * (100 - population_cancer)))\n",
    "print(\"conditional probability that I have cancer, if I get a Negative test result for Cancer \" + str(prob_cancer_and_test_positive * 100))"
   ]
  },
  {
   "cell_type": "code",
   "execution_count": 44,
   "metadata": {},
   "outputs": [
    {
     "name": "stdout",
     "output_type": "stream",
     "text": [
      "Probability of getting at least 8 heads = 0.0546875\n"
     ]
    }
   ],
   "source": [
    "# Probability\n",
    "\n",
    "ans = binom.pmf(k = 8, n = 10, p = 0.5) + binom.pmf(k = 9, n = 10, p = 0.5) + binom.pmf(k = 10, n = 10, p = 0.5)\n",
    "print(\"Probability of getting at least 8 heads = \" + str(ans))"
   ]
  },
  {
   "cell_type": "code",
   "execution_count": 47,
   "metadata": {},
   "outputs": [
    {
     "data": {
      "text/plain": [
       "0.16487766449999994"
      ]
     },
     "execution_count": 47,
     "metadata": {},
     "output_type": "execute_result"
    }
   ],
   "source": [
    "# Probability\n",
    "\n",
    "ans = binom.pmf(k = 8, n = 10, p = 0.6) + binom.pmf(k = 8, n = 10, p = 0.5)\n",
    "ans"
   ]
  },
  {
   "cell_type": "code",
   "execution_count": null,
   "metadata": {},
   "outputs": [],
   "source": []
  }
 ],
 "metadata": {
  "kernelspec": {
   "display_name": "Python 3",
   "language": "python",
   "name": "python3"
  },
  "language_info": {
   "codemirror_mode": {
    "name": "ipython",
    "version": 3
   },
   "file_extension": ".py",
   "mimetype": "text/x-python",
   "name": "python",
   "nbconvert_exporter": "python",
   "pygments_lexer": "ipython3",
   "version": "3.8.3"
  }
 },
 "nbformat": 4,
 "nbformat_minor": 4
}
