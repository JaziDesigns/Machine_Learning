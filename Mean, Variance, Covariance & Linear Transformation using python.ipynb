{
 "cells": [
  {
   "cell_type": "code",
   "execution_count": 1,
   "metadata": {},
   "outputs": [],
   "source": [
    "import numpy as np\n",
    "from sympy import *\n",
    "import math\n",
    "import pandas as pd "
   ]
  },
  {
   "cell_type": "code",
   "execution_count": 28,
   "metadata": {},
   "outputs": [
    {
     "data": {
      "text/plain": [
       "1.0"
      ]
     },
     "execution_count": 28,
     "metadata": {},
     "output_type": "execute_result"
    }
   ],
   "source": [
    "fx = math.cos(0)\n",
    "fx"
   ]
  },
  {
   "cell_type": "code",
   "execution_count": 31,
   "metadata": {},
   "outputs": [],
   "source": [
    "x, y, a, b, c, d = symbols(\"x y a b c d\")"
   ]
  },
  {
   "cell_type": "code",
   "execution_count": 32,
   "metadata": {},
   "outputs": [
    {
     "data": {
      "text/latex": [
       "$\\displaystyle a x^{3} + b x^{2} + c x + d$"
      ],
      "text/plain": [
       "a*x**3 + b*x**2 + c*x + d"
      ]
     },
     "execution_count": 32,
     "metadata": {},
     "output_type": "execute_result"
    }
   ],
   "source": [
    "y = a*x**3 + b*x**2 + c * x + d\n",
    "y"
   ]
  },
  {
   "cell_type": "code",
   "execution_count": 33,
   "metadata": {},
   "outputs": [
    {
     "data": {
      "text/latex": [
       "$\\displaystyle 3 a x^{2} + 2 b x + c$"
      ],
      "text/plain": [
       "3*a*x**2 + 2*b*x + c"
      ]
     },
     "execution_count": 33,
     "metadata": {},
     "output_type": "execute_result"
    }
   ],
   "source": [
    "diff_1 = diff(y, x)\n",
    "diff_1"
   ]
  },
  {
   "cell_type": "code",
   "execution_count": 35,
   "metadata": {},
   "outputs": [
    {
     "data": {
      "text/latex": [
       "$\\displaystyle 6 a x + 2 b$"
      ],
      "text/plain": [
       "6*a*x + 2*b"
      ]
     },
     "execution_count": 35,
     "metadata": {},
     "output_type": "execute_result"
    }
   ],
   "source": [
    "diff_2 = diff(diff_1, x)\n",
    "diff_2"
   ]
  },
  {
   "cell_type": "code",
   "execution_count": 36,
   "metadata": {},
   "outputs": [
    {
     "data": {
      "text/latex": [
       "$\\displaystyle 6 a$"
      ],
      "text/plain": [
       "6*a"
      ]
     },
     "execution_count": 36,
     "metadata": {},
     "output_type": "execute_result"
    }
   ],
   "source": [
    "diff_3 = diff(diff_2, x)\n",
    "diff_3"
   ]
  },
  {
   "cell_type": "code",
   "execution_count": 37,
   "metadata": {},
   "outputs": [
    {
     "data": {
      "text/latex": [
       "$\\displaystyle \\frac{2}{x^{2} - x}$"
      ],
      "text/plain": [
       "2/(x**2 - x)"
      ]
     },
     "execution_count": 37,
     "metadata": {},
     "output_type": "execute_result"
    }
   ],
   "source": [
    "fx = 2/ ((x**2) - x)\n",
    "fx"
   ]
  },
  {
   "cell_type": "code",
   "execution_count": 47,
   "metadata": {},
   "outputs": [
    {
     "data": {
      "text/latex": [
       "$\\displaystyle \\frac{1}{6}$"
      ],
      "text/plain": [
       "1/6"
      ]
     },
     "execution_count": 47,
     "metadata": {},
     "output_type": "execute_result"
    }
   ],
   "source": [
    "fx.subs(x, -3)"
   ]
  },
  {
   "cell_type": "code",
   "execution_count": 50,
   "metadata": {},
   "outputs": [
    {
     "data": {
      "text/latex": [
       "$\\displaystyle \\frac{x^{6}}{6} - 3 x^{4} - \\frac{2 x^{3}}{3} + \\frac{27 x^{2}}{2} + 18 x - 30$"
      ],
      "text/plain": [
       "x**6/6 - 3*x**4 - 2*x**3/3 + 27*x**2/2 + 18*x - 30"
      ]
     },
     "execution_count": 50,
     "metadata": {},
     "output_type": "execute_result"
    }
   ],
   "source": [
    "fx = (x**6) / 6 - 3 * x ** 4 - 2*x**3/3 + 27*x**2/2 + 18*x - 30\n",
    "fx\n"
   ]
  },
  {
   "cell_type": "code",
   "execution_count": 51,
   "metadata": {},
   "outputs": [
    {
     "data": {
      "text/latex": [
       "$\\displaystyle x^{5} - 12 x^{3} - 2 x^{2} + 27 x + 18$"
      ],
      "text/plain": [
       "x**5 - 12*x**3 - 2*x**2 + 27*x + 18"
      ]
     },
     "execution_count": 51,
     "metadata": {},
     "output_type": "execute_result"
    }
   ],
   "source": [
    "diff_fx = diff(fx, x)\n",
    "diff_fx"
   ]
  },
  {
   "cell_type": "code",
   "execution_count": 54,
   "metadata": {},
   "outputs": [
    {
     "data": {
      "text/latex": [
       "$\\displaystyle 32$"
      ],
      "text/plain": [
       "32"
      ]
     },
     "execution_count": 54,
     "metadata": {},
     "output_type": "execute_result"
    }
   ],
   "source": [
    "fx_1 = diff_fx.subs(x, 1)\n",
    "fx_1"
   ]
  },
  {
   "cell_type": "code",
   "execution_count": 55,
   "metadata": {},
   "outputs": [
    {
     "data": {
      "text/latex": [
       "$\\displaystyle -2$"
      ],
      "text/plain": [
       "-2"
      ]
     },
     "execution_count": 55,
     "metadata": {},
     "output_type": "execute_result"
    }
   ],
   "source": [
    "fx_minus = fx.subs(x, 1)\n",
    "fx_minus"
   ]
  },
  {
   "cell_type": "code",
   "execution_count": 58,
   "metadata": {},
   "outputs": [
    {
     "data": {
      "text/html": [
       "<div>\n",
       "<style scoped>\n",
       "    .dataframe tbody tr th:only-of-type {\n",
       "        vertical-align: middle;\n",
       "    }\n",
       "\n",
       "    .dataframe tbody tr th {\n",
       "        vertical-align: top;\n",
       "    }\n",
       "\n",
       "    .dataframe thead th {\n",
       "        text-align: right;\n",
       "    }\n",
       "</style>\n",
       "<table border=\"1\" class=\"dataframe\">\n",
       "  <thead>\n",
       "    <tr style=\"text-align: right;\">\n",
       "      <th></th>\n",
       "      <th>x</th>\n",
       "      <th>f(x)</th>\n",
       "    </tr>\n",
       "  </thead>\n",
       "  <tbody>\n",
       "    <tr>\n",
       "      <th>0</th>\n",
       "      <td>1.000000</td>\n",
       "      <td>-2.000000e+00</td>\n",
       "    </tr>\n",
       "    <tr>\n",
       "      <th>1</th>\n",
       "      <td>1.062500</td>\n",
       "      <td>-1.791031e-02</td>\n",
       "    </tr>\n",
       "    <tr>\n",
       "      <th>2</th>\n",
       "      <td>1.063071</td>\n",
       "      <td>-1.876670e-06</td>\n",
       "    </tr>\n",
       "    <tr>\n",
       "      <th>3</th>\n",
       "      <td>1.063071</td>\n",
       "      <td>-2.131628e-14</td>\n",
       "    </tr>\n",
       "    <tr>\n",
       "      <th>4</th>\n",
       "      <td>1.063071</td>\n",
       "      <td>0.000000e+00</td>\n",
       "    </tr>\n",
       "    <tr>\n",
       "      <th>5</th>\n",
       "      <td>1.063071</td>\n",
       "      <td>0.000000e+00</td>\n",
       "    </tr>\n",
       "    <tr>\n",
       "      <th>6</th>\n",
       "      <td>1.063071</td>\n",
       "      <td>0.000000e+00</td>\n",
       "    </tr>\n",
       "    <tr>\n",
       "      <th>7</th>\n",
       "      <td>1.063071</td>\n",
       "      <td>0.000000e+00</td>\n",
       "    </tr>\n",
       "    <tr>\n",
       "      <th>8</th>\n",
       "      <td>1.063071</td>\n",
       "      <td>0.000000e+00</td>\n",
       "    </tr>\n",
       "    <tr>\n",
       "      <th>9</th>\n",
       "      <td>1.063071</td>\n",
       "      <td>0.000000e+00</td>\n",
       "    </tr>\n",
       "    <tr>\n",
       "      <th>10</th>\n",
       "      <td>1.063071</td>\n",
       "      <td>0.000000e+00</td>\n",
       "    </tr>\n",
       "    <tr>\n",
       "      <th>11</th>\n",
       "      <td>1.063071</td>\n",
       "      <td>0.000000e+00</td>\n",
       "    </tr>\n",
       "    <tr>\n",
       "      <th>12</th>\n",
       "      <td>1.063071</td>\n",
       "      <td>0.000000e+00</td>\n",
       "    </tr>\n",
       "    <tr>\n",
       "      <th>13</th>\n",
       "      <td>1.063071</td>\n",
       "      <td>0.000000e+00</td>\n",
       "    </tr>\n",
       "    <tr>\n",
       "      <th>14</th>\n",
       "      <td>1.063071</td>\n",
       "      <td>0.000000e+00</td>\n",
       "    </tr>\n",
       "    <tr>\n",
       "      <th>15</th>\n",
       "      <td>1.063071</td>\n",
       "      <td>0.000000e+00</td>\n",
       "    </tr>\n",
       "    <tr>\n",
       "      <th>16</th>\n",
       "      <td>1.063071</td>\n",
       "      <td>0.000000e+00</td>\n",
       "    </tr>\n",
       "    <tr>\n",
       "      <th>17</th>\n",
       "      <td>1.063071</td>\n",
       "      <td>0.000000e+00</td>\n",
       "    </tr>\n",
       "    <tr>\n",
       "      <th>18</th>\n",
       "      <td>1.063071</td>\n",
       "      <td>0.000000e+00</td>\n",
       "    </tr>\n",
       "    <tr>\n",
       "      <th>19</th>\n",
       "      <td>1.063071</td>\n",
       "      <td>0.000000e+00</td>\n",
       "    </tr>\n",
       "    <tr>\n",
       "      <th>20</th>\n",
       "      <td>1.063071</td>\n",
       "      <td>0.000000e+00</td>\n",
       "    </tr>\n",
       "  </tbody>\n",
       "</table>\n",
       "</div>"
      ],
      "text/plain": [
       "           x          f(x)\n",
       "0   1.000000 -2.000000e+00\n",
       "1   1.062500 -1.791031e-02\n",
       "2   1.063071 -1.876670e-06\n",
       "3   1.063071 -2.131628e-14\n",
       "4   1.063071  0.000000e+00\n",
       "5   1.063071  0.000000e+00\n",
       "6   1.063071  0.000000e+00\n",
       "7   1.063071  0.000000e+00\n",
       "8   1.063071  0.000000e+00\n",
       "9   1.063071  0.000000e+00\n",
       "10  1.063071  0.000000e+00\n",
       "11  1.063071  0.000000e+00\n",
       "12  1.063071  0.000000e+00\n",
       "13  1.063071  0.000000e+00\n",
       "14  1.063071  0.000000e+00\n",
       "15  1.063071  0.000000e+00\n",
       "16  1.063071  0.000000e+00\n",
       "17  1.063071  0.000000e+00\n",
       "18  1.063071  0.000000e+00\n",
       "19  1.063071  0.000000e+00\n",
       "20  1.063071  0.000000e+00"
      ]
     },
     "execution_count": 58,
     "metadata": {},
     "output_type": "execute_result"
    }
   ],
   "source": [
    "def f (x) :\n",
    "    return x**6/6 - 3*x**4 - 2*x**3/3 + 27*x**2/2 + 18*x - 30\n",
    "\n",
    "def d_f (x) :\n",
    "    return x**5 - 12*x**3 - 2*x**2 + 27*x + 18\n",
    "\n",
    "x = 1\n",
    "1\n",
    "d = {\"x\" : [x], \"f(x)\": [f(x)]}\n",
    "for i in range(0, 20):\n",
    "    x = x - f(x) / d_f(x)\n",
    "    d[\"x\"].append(x)\n",
    "    d[\"f(x)\"].append(f(x))\n",
    "\n",
    "pd.DataFrame(d, columns=['x', 'f(x)'])\n"
   ]
  },
  {
   "cell_type": "code",
   "execution_count": 59,
   "metadata": {},
   "outputs": [
    {
     "data": {
      "text/html": [
       "<div>\n",
       "<style scoped>\n",
       "    .dataframe tbody tr th:only-of-type {\n",
       "        vertical-align: middle;\n",
       "    }\n",
       "\n",
       "    .dataframe tbody tr th {\n",
       "        vertical-align: top;\n",
       "    }\n",
       "\n",
       "    .dataframe thead th {\n",
       "        text-align: right;\n",
       "    }\n",
       "</style>\n",
       "<table border=\"1\" class=\"dataframe\">\n",
       "  <thead>\n",
       "    <tr style=\"text-align: right;\">\n",
       "      <th></th>\n",
       "      <th>x</th>\n",
       "      <th>f(x)</th>\n",
       "    </tr>\n",
       "  </thead>\n",
       "  <tbody>\n",
       "    <tr>\n",
       "      <th>0</th>\n",
       "      <td>1.000000</td>\n",
       "      <td>-2.000000e+00</td>\n",
       "    </tr>\n",
       "    <tr>\n",
       "      <th>1</th>\n",
       "      <td>1.062500</td>\n",
       "      <td>-1.791031e-02</td>\n",
       "    </tr>\n",
       "    <tr>\n",
       "      <th>2</th>\n",
       "      <td>1.063071</td>\n",
       "      <td>-1.876670e-06</td>\n",
       "    </tr>\n",
       "    <tr>\n",
       "      <th>3</th>\n",
       "      <td>1.063071</td>\n",
       "      <td>-2.131628e-14</td>\n",
       "    </tr>\n",
       "    <tr>\n",
       "      <th>4</th>\n",
       "      <td>1.063071</td>\n",
       "      <td>0.000000e+00</td>\n",
       "    </tr>\n",
       "    <tr>\n",
       "      <th>5</th>\n",
       "      <td>1.063071</td>\n",
       "      <td>0.000000e+00</td>\n",
       "    </tr>\n",
       "    <tr>\n",
       "      <th>6</th>\n",
       "      <td>1.063071</td>\n",
       "      <td>0.000000e+00</td>\n",
       "    </tr>\n",
       "    <tr>\n",
       "      <th>7</th>\n",
       "      <td>1.063071</td>\n",
       "      <td>0.000000e+00</td>\n",
       "    </tr>\n",
       "    <tr>\n",
       "      <th>8</th>\n",
       "      <td>1.063071</td>\n",
       "      <td>0.000000e+00</td>\n",
       "    </tr>\n",
       "    <tr>\n",
       "      <th>9</th>\n",
       "      <td>1.063071</td>\n",
       "      <td>0.000000e+00</td>\n",
       "    </tr>\n",
       "    <tr>\n",
       "      <th>10</th>\n",
       "      <td>1.063071</td>\n",
       "      <td>0.000000e+00</td>\n",
       "    </tr>\n",
       "    <tr>\n",
       "      <th>11</th>\n",
       "      <td>1.063071</td>\n",
       "      <td>0.000000e+00</td>\n",
       "    </tr>\n",
       "    <tr>\n",
       "      <th>12</th>\n",
       "      <td>1.063071</td>\n",
       "      <td>0.000000e+00</td>\n",
       "    </tr>\n",
       "    <tr>\n",
       "      <th>13</th>\n",
       "      <td>1.063071</td>\n",
       "      <td>0.000000e+00</td>\n",
       "    </tr>\n",
       "    <tr>\n",
       "      <th>14</th>\n",
       "      <td>1.063071</td>\n",
       "      <td>0.000000e+00</td>\n",
       "    </tr>\n",
       "    <tr>\n",
       "      <th>15</th>\n",
       "      <td>1.063071</td>\n",
       "      <td>0.000000e+00</td>\n",
       "    </tr>\n",
       "    <tr>\n",
       "      <th>16</th>\n",
       "      <td>1.063071</td>\n",
       "      <td>0.000000e+00</td>\n",
       "    </tr>\n",
       "    <tr>\n",
       "      <th>17</th>\n",
       "      <td>1.063071</td>\n",
       "      <td>0.000000e+00</td>\n",
       "    </tr>\n",
       "    <tr>\n",
       "      <th>18</th>\n",
       "      <td>1.063071</td>\n",
       "      <td>0.000000e+00</td>\n",
       "    </tr>\n",
       "    <tr>\n",
       "      <th>19</th>\n",
       "      <td>1.063071</td>\n",
       "      <td>0.000000e+00</td>\n",
       "    </tr>\n",
       "    <tr>\n",
       "      <th>20</th>\n",
       "      <td>1.063071</td>\n",
       "      <td>0.000000e+00</td>\n",
       "    </tr>\n",
       "  </tbody>\n",
       "</table>\n",
       "</div>"
      ],
      "text/plain": [
       "           x          f(x)\n",
       "0   1.000000 -2.000000e+00\n",
       "1   1.062500 -1.791031e-02\n",
       "2   1.063071 -1.876670e-06\n",
       "3   1.063071 -2.131628e-14\n",
       "4   1.063071  0.000000e+00\n",
       "5   1.063071  0.000000e+00\n",
       "6   1.063071  0.000000e+00\n",
       "7   1.063071  0.000000e+00\n",
       "8   1.063071  0.000000e+00\n",
       "9   1.063071  0.000000e+00\n",
       "10  1.063071  0.000000e+00\n",
       "11  1.063071  0.000000e+00\n",
       "12  1.063071  0.000000e+00\n",
       "13  1.063071  0.000000e+00\n",
       "14  1.063071  0.000000e+00\n",
       "15  1.063071  0.000000e+00\n",
       "16  1.063071  0.000000e+00\n",
       "17  1.063071  0.000000e+00\n",
       "18  1.063071  0.000000e+00\n",
       "19  1.063071  0.000000e+00\n",
       "20  1.063071  0.000000e+00"
      ]
     },
     "execution_count": 59,
     "metadata": {},
     "output_type": "execute_result"
    }
   ],
   "source": [
    "def f (x) :\n",
    "    return x**6/6 - 3*x**4 - 2*x**3/3 + 27*x**2/2 + 18*x - 30\n",
    "\n",
    "def d_f (x) :\n",
    "    return x**5 - 12*x**3 - 2*x**2 + 27*x + 18\n",
    "\n",
    "x = 1\n",
    "1\n",
    "d = {\"x\" : [x], \"f(x)\": [f(x)]}\n",
    "for i in range(0, 20):\n",
    "    x = x - f(x) / d_f(x)\n",
    "    d[\"x\"].append(x)\n",
    "    d[\"f(x)\"].append(f(x))\n",
    "\n",
    "pd.DataFrame(d, columns=['x', 'f(x)'])"
   ]
  },
  {
   "cell_type": "code",
   "execution_count": 60,
   "metadata": {},
   "outputs": [
    {
     "data": {
      "text/plain": [
       "1.063070629709697"
      ]
     },
     "execution_count": 60,
     "metadata": {},
     "output_type": "execute_result"
    }
   ],
   "source": [
    "from scipy import optimize\n",
    "\n",
    "def f (x) :\n",
    "    return x**6/6 - 3*x**4 - 2*x**3/3 + 27*x**2/2 + 18*x - 30\n",
    "  \n",
    "x0 = 3.1\n",
    "optimize.newton(f, x0)"
   ]
  },
  {
   "cell_type": "markdown",
   "metadata": {},
   "source": [
    "**Langrange multipliers**"
   ]
  },
  {
   "cell_type": "code",
   "execution_count": 62,
   "metadata": {},
   "outputs": [],
   "source": [
    "# First we define the functions,\n",
    "def f (x, y) :\n",
    "    return np.exp(-(2*x*x + y*y - x*y) / 2)\n",
    "\n",
    "def g (x, y) :\n",
    "    return x*x + 3*(y+1)**2 - 1\n",
    "\n",
    "# Next their derivatives,\n",
    "def dfdx (x, y) :\n",
    "    return 1/2 * (-4*x + y) * f(x, y)\n",
    "\n",
    "def dfdy (x, y) :\n",
    "    return 1/2 * (x - 2*y) * f(x, y)\n",
    "\n",
    "def dgdx (x, y) :\n",
    "    return 2*x\n",
    "\n",
    "def dgdy (x, y) :\n",
    "    return 6*(y+1)\n",
    "    "
   ]
  },
  {
   "cell_type": "code",
   "execution_count": 64,
   "metadata": {},
   "outputs": [
    {
     "name": "stdout",
     "output_type": "stream",
     "text": [
      "x = -0.0958377\n",
      "y = -0.425307\n",
      "λ = 0.101108\n",
      "f(x, y) = 0.923811\n"
     ]
    }
   ],
   "source": [
    "from scipy import optimize\n",
    "\n",
    "def DL (xyλ) :\n",
    "    [x, y, λ] = xyλ\n",
    "    return np.array([\n",
    "            dfdx(x, y) - λ * dgdx(x, y),\n",
    "            dfdy(x, y) - λ * dgdy(x, y),\n",
    "            - g(x, y)\n",
    "        ])\n",
    "\n",
    "(x0, y0, λ0) = (0, 0, 0)\n",
    "x, y, λ = optimize.root(DL, [x0, y0, λ0]).x\n",
    "print(\"x = %g\" % x)\n",
    "print(\"y = %g\" % y)\n",
    "print(\"λ = %g\" % λ)\n",
    "print(\"f(x, y) = %g\" % f(x, y))"
   ]
  },
  {
   "cell_type": "code",
   "execution_count": null,
   "metadata": {},
   "outputs": [],
   "source": [
    "-0.43"
   ]
  },
  {
   "cell_type": "markdown",
   "metadata": {},
   "source": [
    "**Lagrange multipliers**"
   ]
  },
  {
   "cell_type": "code",
   "execution_count": 2,
   "metadata": {},
   "outputs": [],
   "source": [
    "def f(x, y):\n",
    "    return np.exp(-(2*x**2 + y**2 - x*y) / 2)\n",
    "\n",
    "def g(x, y):\n",
    "    return x**2 + 3*(y+1)**2 - 1\n",
    "\n",
    "def dfdx(x, y):\n",
    "    return 1/2 * (-4 * x + y) * f(x, y)\n",
    "\n",
    "def dfdy(x, y):\n",
    "    return 1/2 * (x - 2*y) * f(x, y)\n",
    "\n",
    "def dgdx(x, y):\n",
    "    return 2*x\n",
    "\n",
    "def dgdy(x, y):\n",
    "    return 6 * (y + 1)"
   ]
  },
  {
   "cell_type": "code",
   "execution_count": 4,
   "metadata": {},
   "outputs": [
    {
     "name": "stdout",
     "output_type": "stream",
     "text": [
      "x = -0.0958377\n",
      "y = -0.425307\n",
      "λ = 0.101108\n",
      "f(x, y) = 0.923811\n"
     ]
    }
   ],
   "source": [
    "from scipy import optimize\n",
    "\n",
    "def DL (xyλ) :\n",
    "    [x, y, λ] = xyλ\n",
    "    return np.array([\n",
    "            dfdx(x, y) - λ * dgdx(x, y),\n",
    "            dfdy(x, y) - λ * dgdy(x, y),\n",
    "            - g(x, y)\n",
    "        ])\n",
    "\n",
    "(x0, y0, λ0) = (0, 0, 0)\n",
    "x, y, λ = optimize.root(DL, [x0, y0, λ0]).x\n",
    "print(\"x = %g\" % x)\n",
    "print(\"y = %g\" % y)\n",
    "print(\"λ = %g\" % λ)\n",
    "print(\"f(x, y) = %g\" % f(x, y))"
   ]
  },
  {
   "cell_type": "code",
   "execution_count": 6,
   "metadata": {},
   "outputs": [
    {
     "name": "stdout",
     "output_type": "stream",
     "text": [
      "x = 0.145343\n",
      "y = -1.22865\n",
      "λ = 0.0488809\n",
      "f(x, y) = -0.213776\n"
     ]
    }
   ],
   "source": [
    "# Import libraries\n",
    "import numpy as np\n",
    "from scipy import optimize\n",
    "\n",
    "# First we define the functions, YOU SHOULD IMPLEMENT THESE\n",
    "def f (x, y) :\n",
    "    return -np.exp(x - y**2 + x*y)\n",
    "def g (x, y) :\n",
    "    return np.cosh(y) + x - 2\n",
    "\n",
    "# Next their derivatives, YOU SHOULD IMPLEMENT THESE\n",
    "def dfdx (x, y) :\n",
    "    return (-np.exp(x - y**2 + x*y)) * (1 + y)\n",
    "\n",
    "def dfdy (x, y) :\n",
    "    return (-np.exp(x - y**2 + x*y)) * (-2*y*x)\n",
    "\n",
    "def dgdx (x, y) :\n",
    "    return 1\n",
    "\n",
    "def dgdy (x, y) :\n",
    "    return np.sinh(y)\n",
    "\n",
    "# Use the definition of DL from previously.\n",
    "def DL (xyλ) :\n",
    "    [x, y, λ] = xyλ\n",
    "    return np.array([\n",
    "            dfdx(x, y) - λ * dgdx(x, y),\n",
    "            dfdy(x, y) - λ * dgdy(x, y),\n",
    "            - g(x, y)\n",
    "        ])\n",
    "\n",
    "# To score on this question, the code above should set\n",
    "# the variables x, y, λ, to the values which solve the\n",
    "# Langrange multiplier problem.\n",
    "\n",
    "# I.e. use the optimize.root method, as you did previously.\n",
    "\n",
    "(x, y, λ) = (0, 0, 0)\n",
    "x, y, λ = optimize.root(DL, [x, y, λ]).x\n",
    "\n",
    "print(\"x = %g\" % x)\n",
    "print(\"y = %g\" % y)\n",
    "print(\"λ = %g\" % λ)\n",
    "print(\"f(x, y) = %g\" % f(x, y))\n"
   ]
  },
  {
   "cell_type": "code",
   "execution_count": null,
   "metadata": {},
   "outputs": [],
   "source": []
  }
 ],
 "metadata": {
  "kernelspec": {
   "display_name": "Python 3",
   "language": "python",
   "name": "python3"
  },
  "language_info": {
   "codemirror_mode": {
    "name": "ipython",
    "version": 3
   },
   "file_extension": ".py",
   "mimetype": "text/x-python",
   "name": "python",
   "nbconvert_exporter": "python",
   "pygments_lexer": "ipython3",
   "version": "3.8.3"
  }
 },
 "nbformat": 4,
 "nbformat_minor": 4
}
