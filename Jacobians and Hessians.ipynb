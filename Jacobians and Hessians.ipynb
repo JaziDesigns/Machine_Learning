{
 "cells": [
  {
   "cell_type": "code",
   "execution_count": 23,
   "metadata": {},
   "outputs": [],
   "source": [
    "from sympy import *\n",
    "import math"
   ]
  },
  {
   "cell_type": "markdown",
   "metadata": {},
   "source": [
    "**Variables, Constants & Context?**"
   ]
  },
  {
   "cell_type": "code",
   "execution_count": 24,
   "metadata": {},
   "outputs": [],
   "source": [
    "c, d, a, b, m, x, y, z, pi, r, t, p, h, e, t = symbols(\"c d a b m x y z pi r t p h e t\")"
   ]
  },
  {
   "cell_type": "markdown",
   "metadata": {},
   "source": [
    "**Question 1**"
   ]
  },
  {
   "cell_type": "code",
   "execution_count": 5,
   "metadata": {},
   "outputs": [
    {
     "data": {
      "text/latex": [
       "$\\displaystyle 2 h p \\pi r t + 2 p \\pi r^{2} t$"
      ],
      "text/plain": [
       "2*h*p*pi*r*t + 2*p*pi*r**2*t"
      ]
     },
     "execution_count": 5,
     "metadata": {},
     "output_type": "execute_result"
    }
   ],
   "source": [
    "m = 2*pi*r**2*t*p + 2*pi*r*h*t*p\n",
    "m"
   ]
  },
  {
   "cell_type": "code",
   "execution_count": 9,
   "metadata": {},
   "outputs": [
    {
     "data": {
      "text/latex": [
       "$\\displaystyle 2 p \\pi r t$"
      ],
      "text/plain": [
       "2*p*pi*r*t"
      ]
     },
     "execution_count": 9,
     "metadata": {},
     "output_type": "execute_result"
    }
   ],
   "source": [
    "# Partial derivative w.r.t h\n",
    "diff_mh = diff(m, h)\n",
    "diff_mh"
   ]
  },
  {
   "cell_type": "code",
   "execution_count": 10,
   "metadata": {},
   "outputs": [
    {
     "data": {
      "text/latex": [
       "$\\displaystyle 2 h p \\pi t + 4 p \\pi r t$"
      ],
      "text/plain": [
       "2*h*p*pi*t + 4*p*pi*r*t"
      ]
     },
     "execution_count": 10,
     "metadata": {},
     "output_type": "execute_result"
    }
   ],
   "source": [
    "# Partial derivative w.r.t r\n",
    "diff_mr = diff(m, r)\n",
    "diff_mr"
   ]
  },
  {
   "cell_type": "code",
   "execution_count": 11,
   "metadata": {},
   "outputs": [
    {
     "data": {
      "text/latex": [
       "$\\displaystyle 2 h p \\pi r + 2 p \\pi r^{2}$"
      ],
      "text/plain": [
       "2*h*p*pi*r + 2*p*pi*r**2"
      ]
     },
     "execution_count": 11,
     "metadata": {},
     "output_type": "execute_result"
    }
   ],
   "source": [
    "# Partial derivative w.r.t t\n",
    "diff_mt = diff(m, t)\n",
    "diff_mt"
   ]
  },
  {
   "cell_type": "code",
   "execution_count": 12,
   "metadata": {},
   "outputs": [
    {
     "data": {
      "text/latex": [
       "$\\displaystyle 2 h \\pi r t + 2 \\pi r^{2} t$"
      ],
      "text/plain": [
       "2*h*pi*r*t + 2*pi*r**2*t"
      ]
     },
     "execution_count": 12,
     "metadata": {},
     "output_type": "execute_result"
    }
   ],
   "source": [
    "# Partial derivative w.r.t p\n",
    "diff_mp = diff(m, p)\n",
    "diff_mp"
   ]
  },
  {
   "cell_type": "markdown",
   "metadata": {},
   "source": [
    "**Differentiation with respect to anything**"
   ]
  },
  {
   "cell_type": "code",
   "execution_count": 20,
   "metadata": {},
   "outputs": [
    {
     "data": {
      "text/latex": [
       "$\\displaystyle e^{y z^{2}} \\sin{\\left(x \\right)}$"
      ],
      "text/plain": [
       "e**(y*z**2)*sin(x)"
      ]
     },
     "execution_count": 20,
     "metadata": {},
     "output_type": "execute_result"
    }
   ],
   "source": [
    "fxyz = sin(x)*e**(y*(z**2))\n",
    "fxyz"
   ]
  },
  {
   "cell_type": "code",
   "execution_count": 23,
   "metadata": {},
   "outputs": [
    {
     "data": {
      "text/latex": [
       "$\\displaystyle e^{y z^{2}} \\cos{\\left(x \\right)}$"
      ],
      "text/plain": [
       "e**(y*z**2)*cos(x)"
      ]
     },
     "execution_count": 23,
     "metadata": {},
     "output_type": "execute_result"
    }
   ],
   "source": [
    "# Partial derivative w.r.t x\n",
    "fx = diff(fxyz, x)\n",
    "fx"
   ]
  },
  {
   "cell_type": "code",
   "execution_count": 25,
   "metadata": {},
   "outputs": [
    {
     "data": {
      "text/latex": [
       "$\\displaystyle e^{y z^{2}} z^{2} \\log{\\left(e \\right)} \\sin{\\left(x \\right)}$"
      ],
      "text/plain": [
       "e**(y*z**2)*z**2*log(e)*sin(x)"
      ]
     },
     "execution_count": 25,
     "metadata": {},
     "output_type": "execute_result"
    }
   ],
   "source": [
    "# Partial derivative w.r.t y\n",
    "fy = diff(fxyz, y)\n",
    "fy"
   ]
  },
  {
   "cell_type": "code",
   "execution_count": 22,
   "metadata": {},
   "outputs": [
    {
     "data": {
      "text/latex": [
       "$\\displaystyle 2 e^{y z^{2}} y z \\log{\\left(e \\right)} \\sin{\\left(x \\right)}$"
      ],
      "text/plain": [
       "2*e**(y*z**2)*y*z*log(e)*sin(x)"
      ]
     },
     "execution_count": 22,
     "metadata": {},
     "output_type": "execute_result"
    }
   ],
   "source": [
    "# Partial derivative w.r.t z\n",
    "fz = diff(fxyz, z)\n",
    "fz"
   ]
  },
  {
   "cell_type": "code",
   "execution_count": 27,
   "metadata": {},
   "outputs": [
    {
     "data": {
      "text/latex": [
       "$\\displaystyle 2 e^{y z^{2}} z \\left(y z^{2} \\log{\\left(e \\right)} + 1\\right) \\log{\\left(e \\right)} \\cos{\\left(x \\right)}$"
      ],
      "text/plain": [
       "2*e**(y*z**2)*z*(y*z**2*log(e) + 1)*log(e)*cos(x)"
      ]
     },
     "execution_count": 27,
     "metadata": {},
     "output_type": "execute_result"
    }
   ],
   "source": [
    "# Derivative w.r.t x, y, z\n",
    "f_all = diff(fxyz, x, y, z)\n",
    "f_all"
   ]
  },
  {
   "cell_type": "markdown",
   "metadata": {},
   "source": [
    "**Partial Derivatives**"
   ]
  },
  {
   "cell_type": "code",
   "execution_count": 6,
   "metadata": {},
   "outputs": [
    {
     "data": {
      "text/latex": [
       "$\\displaystyle m y^{4} + \\pi x^{3} + x y^{2}$"
      ],
      "text/plain": [
       "m*y**4 + pi*x**3 + x*y**2"
      ]
     },
     "execution_count": 6,
     "metadata": {},
     "output_type": "execute_result"
    }
   ],
   "source": [
    "fxy = pi*x**3 + x*y**2 + m*y**4\n",
    "fxy"
   ]
  },
  {
   "cell_type": "code",
   "execution_count": 7,
   "metadata": {},
   "outputs": [
    {
     "data": {
      "text/latex": [
       "$\\displaystyle 3 \\pi x^{2} + y^{2}$"
      ],
      "text/plain": [
       "3*pi*x**2 + y**2"
      ]
     },
     "execution_count": 7,
     "metadata": {},
     "output_type": "execute_result"
    }
   ],
   "source": [
    "# partial derivative w.r.t x\n",
    "fx = diff(fxy, x)\n",
    "fx"
   ]
  },
  {
   "cell_type": "code",
   "execution_count": 8,
   "metadata": {},
   "outputs": [
    {
     "data": {
      "text/latex": [
       "$\\displaystyle 4 m y^{3} + 2 x y$"
      ],
      "text/plain": [
       "4*m*y**3 + 2*x*y"
      ]
     },
     "execution_count": 8,
     "metadata": {},
     "output_type": "execute_result"
    }
   ],
   "source": [
    "# partial derivative w.r.t y\n",
    "fy = diff(fxy, y)\n",
    "fy"
   ]
  },
  {
   "cell_type": "code",
   "execution_count": 9,
   "metadata": {},
   "outputs": [
    {
     "data": {
      "text/latex": [
       "$\\displaystyle x^{2} y + x z^{2} + y^{2} z$"
      ],
      "text/plain": [
       "x**2*y + x*z**2 + y**2*z"
      ]
     },
     "execution_count": 9,
     "metadata": {},
     "output_type": "execute_result"
    }
   ],
   "source": [
    "# Problem 2\n",
    "fxyz = x**2*y + y**2*z + z**2*x\n",
    "fxyz"
   ]
  },
  {
   "cell_type": "code",
   "execution_count": 10,
   "metadata": {},
   "outputs": [
    {
     "data": {
      "text/latex": [
       "$\\displaystyle 2 x y + z^{2}$"
      ],
      "text/plain": [
       "2*x*y + z**2"
      ]
     },
     "execution_count": 10,
     "metadata": {},
     "output_type": "execute_result"
    }
   ],
   "source": [
    "# partial derivative w.r.t x\n",
    "fx = diff(fxyz, x)\n",
    "fx"
   ]
  },
  {
   "cell_type": "code",
   "execution_count": 12,
   "metadata": {},
   "outputs": [
    {
     "data": {
      "text/latex": [
       "$\\displaystyle x^{2} + 2 y z$"
      ],
      "text/plain": [
       "x**2 + 2*y*z"
      ]
     },
     "execution_count": 12,
     "metadata": {},
     "output_type": "execute_result"
    }
   ],
   "source": [
    "# partial derivative w.r.t y\n",
    "fy = diff(fxyz,y)\n",
    "fy"
   ]
  },
  {
   "cell_type": "code",
   "execution_count": 13,
   "metadata": {},
   "outputs": [
    {
     "data": {
      "text/latex": [
       "$\\displaystyle 2 x z + y^{2}$"
      ],
      "text/plain": [
       "2*x*z + y**2"
      ]
     },
     "execution_count": 13,
     "metadata": {},
     "output_type": "execute_result"
    }
   ],
   "source": [
    "# partial derivative w.r.t z\n",
    "fz = diff(fxyz, z)\n",
    "fz"
   ]
  },
  {
   "cell_type": "code",
   "execution_count": 5,
   "metadata": {},
   "outputs": [
    {
     "data": {
      "text/latex": [
       "$\\displaystyle e^{2 x} z^{2} \\sin{\\left(y \\right)} + e^{x} e^{y} \\cos{\\left(z \\right)}$"
      ],
      "text/plain": [
       "e**(2*x)*z**2*sin(y) + e**x*e**y*cos(z)"
      ]
     },
     "execution_count": 5,
     "metadata": {},
     "output_type": "execute_result"
    }
   ],
   "source": [
    "# Problem 3\n",
    "fzxy = e**(2*x)*sin(y)*(z**2) + cos(z)*(e**x) * (e**y)\n",
    "fzxy"
   ]
  },
  {
   "cell_type": "code",
   "execution_count": 6,
   "metadata": {},
   "outputs": [
    {
     "data": {
      "text/latex": [
       "$\\displaystyle 2 e^{2 x} z^{2} \\log{\\left(e \\right)} \\sin{\\left(y \\right)} + e^{x} e^{y} \\log{\\left(e \\right)} \\cos{\\left(z \\right)}$"
      ],
      "text/plain": [
       "2*e**(2*x)*z**2*log(e)*sin(y) + e**x*e**y*log(e)*cos(z)"
      ]
     },
     "execution_count": 6,
     "metadata": {},
     "output_type": "execute_result"
    }
   ],
   "source": [
    "# partial derivative w.r.t x\n",
    "fx = diff(fzxy, x)\n",
    "fx"
   ]
  },
  {
   "cell_type": "code",
   "execution_count": 7,
   "metadata": {},
   "outputs": [
    {
     "data": {
      "text/latex": [
       "$\\displaystyle e^{2 x} z^{2} \\cos{\\left(y \\right)} + e^{x} e^{y} \\log{\\left(e \\right)} \\cos{\\left(z \\right)}$"
      ],
      "text/plain": [
       "e**(2*x)*z**2*cos(y) + e**x*e**y*log(e)*cos(z)"
      ]
     },
     "execution_count": 7,
     "metadata": {},
     "output_type": "execute_result"
    }
   ],
   "source": [
    "# partial derivative w.r.t y\n",
    "fy = diff(fzxy, y)\n",
    "fy"
   ]
  },
  {
   "cell_type": "code",
   "execution_count": 9,
   "metadata": {},
   "outputs": [
    {
     "data": {
      "text/latex": [
       "$\\displaystyle 2 e^{2 x} z \\sin{\\left(y \\right)} - e^{x} e^{y} \\sin{\\left(z \\right)}$"
      ],
      "text/plain": [
       "2*e**(2*x)*z*sin(y) - e**x*e**y*sin(z)"
      ]
     },
     "execution_count": 9,
     "metadata": {},
     "output_type": "execute_result"
    }
   ],
   "source": [
    "# partial derivative w.r.t z\n",
    "fz = diff(fzxy, z)\n",
    "fz"
   ]
  },
  {
   "cell_type": "code",
   "execution_count": 14,
   "metadata": {},
   "outputs": [
    {
     "data": {
      "text/latex": [
       "$\\displaystyle \\frac{\\sqrt{x}}{y}$"
      ],
      "text/plain": [
       "sqrt(x)/y"
      ]
     },
     "execution_count": 14,
     "metadata": {},
     "output_type": "execute_result"
    }
   ],
   "source": [
    "# problem 4\n",
    "fyx = sqrt(x)/y\n",
    "fyx"
   ]
  },
  {
   "cell_type": "code",
   "execution_count": 20,
   "metadata": {},
   "outputs": [
    {
     "data": {
      "text/latex": [
       "$\\displaystyle \\frac{\\sqrt{t}}{\\sin{\\left(t \\right)}}$"
      ],
      "text/plain": [
       "sqrt(t)/sin(t)"
      ]
     },
     "execution_count": 20,
     "metadata": {},
     "output_type": "execute_result"
    }
   ],
   "source": [
    "# x(t) = t and y(t) = sin(t)\n",
    "\n",
    "insert = fyx.subs(x, t).subs(y, sin(t))\n",
    "insert"
   ]
  },
  {
   "cell_type": "code",
   "execution_count": 21,
   "metadata": {},
   "outputs": [
    {
     "data": {
      "text/latex": [
       "$\\displaystyle - \\frac{\\sqrt{t} \\cos{\\left(t \\right)}}{\\sin^{2}{\\left(t \\right)}} + \\frac{1}{2 \\sqrt{t} \\sin{\\left(t \\right)}}$"
      ],
      "text/plain": [
       "-sqrt(t)*cos(t)/sin(t)**2 + 1/(2*sqrt(t)*sin(t))"
      ]
     },
     "execution_count": 21,
     "metadata": {},
     "output_type": "execute_result"
    }
   ],
   "source": [
    "insert_diff = diff(insert, t)\n",
    "insert_diff"
   ]
  },
  {
   "cell_type": "code",
   "execution_count": 3,
   "metadata": {},
   "outputs": [
    {
     "data": {
      "text/latex": [
       "$\\displaystyle e^{2 z} \\sin{\\left(y \\right)} \\cos{\\left(x \\right)}$"
      ],
      "text/plain": [
       "e**(2*z)*sin(y)*cos(x)"
      ]
     },
     "execution_count": 3,
     "metadata": {},
     "output_type": "execute_result"
    }
   ],
   "source": [
    "# problem 5\n",
    "fxyz = cos(x)*sin(y)*e**(2*z)\n",
    "fxyz"
   ]
  },
  {
   "cell_type": "code",
   "execution_count": 6,
   "metadata": {},
   "outputs": [
    {
     "data": {
      "text/latex": [
       "$\\displaystyle e^{2 t^{2}} \\sin{\\left(t - 1 \\right)} \\cos{\\left(t + 1 \\right)}$"
      ],
      "text/plain": [
       "e**(2*t**2)*sin(t - 1)*cos(t + 1)"
      ]
     },
     "execution_count": 6,
     "metadata": {},
     "output_type": "execute_result"
    }
   ],
   "source": [
    "f_subs = fxyz.subs(x, t+1).subs(y, t-1).subs(z, (t**2))\n",
    "f_subs"
   ]
  },
  {
   "cell_type": "code",
   "execution_count": 7,
   "metadata": {},
   "outputs": [
    {
     "data": {
      "text/latex": [
       "$\\displaystyle 4 e^{2 t^{2}} t \\log{\\left(e \\right)} \\sin{\\left(t - 1 \\right)} \\cos{\\left(t + 1 \\right)} - e^{2 t^{2}} \\sin{\\left(t - 1 \\right)} \\sin{\\left(t + 1 \\right)} + e^{2 t^{2}} \\cos{\\left(t - 1 \\right)} \\cos{\\left(t + 1 \\right)}$"
      ],
      "text/plain": [
       "4*e**(2*t**2)*t*log(e)*sin(t - 1)*cos(t + 1) - e**(2*t**2)*sin(t - 1)*sin(t + 1) + e**(2*t**2)*cos(t - 1)*cos(t + 1)"
      ]
     },
     "execution_count": 7,
     "metadata": {},
     "output_type": "execute_result"
    }
   ],
   "source": [
    "diff(f_subs, t)"
   ]
  },
  {
   "cell_type": "markdown",
   "metadata": {},
   "source": [
    "**The Jacobian**"
   ]
  },
  {
   "cell_type": "code",
   "execution_count": 8,
   "metadata": {},
   "outputs": [
    {
     "data": {
      "text/latex": [
       "$\\displaystyle x^{2} y + 3 z$"
      ],
      "text/plain": [
       "x**2*y + 3*z"
      ]
     },
     "execution_count": 8,
     "metadata": {},
     "output_type": "execute_result"
    }
   ],
   "source": [
    "f1 = x**2*y + 3*z\n",
    "f1"
   ]
  },
  {
   "cell_type": "code",
   "execution_count": 9,
   "metadata": {},
   "outputs": [
    {
     "data": {
      "text/latex": [
       "$\\displaystyle 2 x y$"
      ],
      "text/plain": [
       "2*x*y"
      ]
     },
     "execution_count": 9,
     "metadata": {},
     "output_type": "execute_result"
    }
   ],
   "source": [
    "f1x = diff(f1, x)\n",
    "f1x"
   ]
  },
  {
   "cell_type": "code",
   "execution_count": 10,
   "metadata": {},
   "outputs": [
    {
     "data": {
      "text/latex": [
       "$\\displaystyle x^{2}$"
      ],
      "text/plain": [
       "x**2"
      ]
     },
     "execution_count": 10,
     "metadata": {},
     "output_type": "execute_result"
    }
   ],
   "source": [
    "f1y = diff(f1, y)\n",
    "f1y"
   ]
  },
  {
   "cell_type": "code",
   "execution_count": 11,
   "metadata": {},
   "outputs": [
    {
     "data": {
      "text/latex": [
       "$\\displaystyle 3$"
      ],
      "text/plain": [
       "3"
      ]
     },
     "execution_count": 11,
     "metadata": {},
     "output_type": "execute_result"
    }
   ],
   "source": [
    "f1z = diff(f1, z)\n",
    "f1z"
   ]
  },
  {
   "cell_type": "code",
   "execution_count": 13,
   "metadata": {},
   "outputs": [],
   "source": [
    "# J = (2xy, x**2, 3)\n",
    "# J(0,0,0) = [0,0,3]"
   ]
  },
  {
   "cell_type": "markdown",
   "metadata": {},
   "source": [
    "# Calculating the Jacobian"
   ]
  },
  {
   "cell_type": "code",
   "execution_count": 19,
   "metadata": {},
   "outputs": [
    {
     "data": {
      "text/latex": [
       "$\\displaystyle x^{2} y + \\frac{3 x y}{4} + 10$"
      ],
      "text/plain": [
       "x**2*y + 3*x*y/4 + 10"
      ]
     },
     "execution_count": 19,
     "metadata": {},
     "output_type": "execute_result"
    }
   ],
   "source": [
    "# Problem 1 \n",
    "fxy1 = x**2*y + (3*x*y)/4 + 10\n",
    "fxy1"
   ]
  },
  {
   "cell_type": "code",
   "execution_count": 17,
   "metadata": {},
   "outputs": [
    {
     "data": {
      "text/latex": [
       "$\\displaystyle 2 x y + \\frac{3 y}{4}$"
      ],
      "text/plain": [
       "2*x*y + 3*y/4"
      ]
     },
     "execution_count": 17,
     "metadata": {},
     "output_type": "execute_result"
    }
   ],
   "source": [
    "J_x = diff(fxy1, x)\n",
    "J_x"
   ]
  },
  {
   "cell_type": "code",
   "execution_count": 18,
   "metadata": {},
   "outputs": [
    {
     "data": {
      "text/latex": [
       "$\\displaystyle x^{2} + \\frac{3 x}{4}$"
      ],
      "text/plain": [
       "x**2 + 3*x/4"
      ]
     },
     "execution_count": 18,
     "metadata": {},
     "output_type": "execute_result"
    }
   ],
   "source": [
    "J_y = diff(fxy1, y)\n",
    "J_y"
   ]
  },
  {
   "cell_type": "code",
   "execution_count": 20,
   "metadata": {},
   "outputs": [
    {
     "data": {
      "text/latex": [
       "$\\displaystyle e^{x} \\cos{\\left(y \\right)} + e^{3 y} x - 2$"
      ],
      "text/plain": [
       "e**x*cos(y) + e**(3*y)*x - 2"
      ]
     },
     "execution_count": 20,
     "metadata": {},
     "output_type": "execute_result"
    }
   ],
   "source": [
    "# Problem 2\n",
    "fxy2 = e**x*cos(y) + x*e**(3*y) - 2\n",
    "fxy2"
   ]
  },
  {
   "cell_type": "code",
   "execution_count": 21,
   "metadata": {},
   "outputs": [
    {
     "data": {
      "text/latex": [
       "$\\displaystyle e^{x} \\log{\\left(e \\right)} \\cos{\\left(y \\right)} + e^{3 y}$"
      ],
      "text/plain": [
       "e**x*log(e)*cos(y) + e**(3*y)"
      ]
     },
     "execution_count": 21,
     "metadata": {},
     "output_type": "execute_result"
    }
   ],
   "source": [
    "Jx2 = diff(fxy2, x)\n",
    "Jx2"
   ]
  },
  {
   "cell_type": "code",
   "execution_count": 22,
   "metadata": {},
   "outputs": [
    {
     "data": {
      "text/latex": [
       "$\\displaystyle - e^{x} \\sin{\\left(y \\right)} + 3 e^{3 y} x \\log{\\left(e \\right)}$"
      ],
      "text/plain": [
       "-e**x*sin(y) + 3*e**(3*y)*x*log(e)"
      ]
     },
     "execution_count": 22,
     "metadata": {},
     "output_type": "execute_result"
    }
   ],
   "source": [
    "Jy2 = diff(fxy2, y)\n",
    "Jy2"
   ]
  },
  {
   "cell_type": "code",
   "execution_count": 23,
   "metadata": {},
   "outputs": [
    {
     "data": {
      "text/latex": [
       "$\\displaystyle e^{x} \\cos{\\left(y \\right)} + x^{2} y^{2} z^{2}$"
      ],
      "text/plain": [
       "e**x*cos(y) + x**2*y**2*z**2"
      ]
     },
     "execution_count": 23,
     "metadata": {},
     "output_type": "execute_result"
    }
   ],
   "source": [
    "# Problem 3\n",
    "fxyz3 = e**x*cos(y) + x**2 * y**2 *z**2\n",
    "fxyz3"
   ]
  },
  {
   "cell_type": "code",
   "execution_count": 24,
   "metadata": {},
   "outputs": [
    {
     "data": {
      "text/latex": [
       "$\\displaystyle e^{x} \\log{\\left(e \\right)} \\cos{\\left(y \\right)} + 2 x y^{2} z^{2}$"
      ],
      "text/plain": [
       "e**x*log(e)*cos(y) + 2*x*y**2*z**2"
      ]
     },
     "execution_count": 24,
     "metadata": {},
     "output_type": "execute_result"
    }
   ],
   "source": [
    "Jx3 = diff(fxyz3, x)\n",
    "Jx3"
   ]
  },
  {
   "cell_type": "code",
   "execution_count": 25,
   "metadata": {},
   "outputs": [
    {
     "data": {
      "text/latex": [
       "$\\displaystyle - e^{x} \\sin{\\left(y \\right)} + 2 x^{2} y z^{2}$"
      ],
      "text/plain": [
       "-e**x*sin(y) + 2*x**2*y*z**2"
      ]
     },
     "execution_count": 25,
     "metadata": {},
     "output_type": "execute_result"
    }
   ],
   "source": [
    "Jy3 = diff(fxyz3, y)\n",
    "Jy3"
   ]
  },
  {
   "cell_type": "code",
   "execution_count": 26,
   "metadata": {},
   "outputs": [
    {
     "data": {
      "text/latex": [
       "$\\displaystyle 2 x^{2} y^{2} z$"
      ],
      "text/plain": [
       "2*x**2*y**2*z"
      ]
     },
     "execution_count": 26,
     "metadata": {},
     "output_type": "execute_result"
    }
   ],
   "source": [
    "Jz3 = diff(fxyz3, z)\n",
    "Jz3"
   ]
  },
  {
   "cell_type": "code",
   "execution_count": 65,
   "metadata": {},
   "outputs": [
    {
     "data": {
      "text/latex": [
       "$\\displaystyle 3 e^{y} e^{z} + x^{2} + \\sin{\\left(z \\right)} \\cos{\\left(x \\right)}$"
      ],
      "text/plain": [
       "3*e**y*e**z + x**2 + sin(z)*cos(x)"
      ]
     },
     "execution_count": 65,
     "metadata": {},
     "output_type": "execute_result"
    }
   ],
   "source": [
    "# Problem 4\n",
    "fxyz4 = x**2 + 3*e**y*e**z + cos(x)*sin(z)\n",
    "fxyz4"
   ]
  },
  {
   "cell_type": "code",
   "execution_count": 66,
   "metadata": {},
   "outputs": [
    {
     "data": {
      "text/latex": [
       "$\\displaystyle 2 x - \\sin{\\left(x \\right)} \\sin{\\left(z \\right)}$"
      ],
      "text/plain": [
       "2*x - sin(x)*sin(z)"
      ]
     },
     "execution_count": 66,
     "metadata": {},
     "output_type": "execute_result"
    }
   ],
   "source": [
    "fx4 = diff(fxyz4, x)\n",
    "fx4"
   ]
  },
  {
   "cell_type": "code",
   "execution_count": 67,
   "metadata": {},
   "outputs": [
    {
     "data": {
      "text/latex": [
       "$\\displaystyle 0$"
      ],
      "text/plain": [
       "0"
      ]
     },
     "execution_count": 67,
     "metadata": {},
     "output_type": "execute_result"
    }
   ],
   "source": [
    "fx4.subs(x, 0)"
   ]
  },
  {
   "cell_type": "code",
   "execution_count": 68,
   "metadata": {},
   "outputs": [
    {
     "data": {
      "text/latex": [
       "$\\displaystyle 3 e^{y} e^{z} \\log{\\left(e \\right)}$"
      ],
      "text/plain": [
       "3*e**y*e**z*log(e)"
      ]
     },
     "execution_count": 68,
     "metadata": {},
     "output_type": "execute_result"
    }
   ],
   "source": [
    "fy4 = diff(fxyz4, y)\n",
    "fy4"
   ]
  },
  {
   "cell_type": "code",
   "execution_count": 78,
   "metadata": {},
   "outputs": [
    {
     "data": {
      "text/latex": [
       "$\\displaystyle 2.99084590467483 \\cdot 2.71^{z}$"
      ],
      "text/plain": [
       "2.99084590467483*2.71**z"
      ]
     },
     "execution_count": 78,
     "metadata": {},
     "output_type": "execute_result"
    }
   ],
   "source": [
    "fy4.subs(y, 0).subs(e, 2.71)"
   ]
  },
  {
   "cell_type": "code",
   "execution_count": 70,
   "metadata": {},
   "outputs": [
    {
     "data": {
      "text/latex": [
       "$\\displaystyle 3 e^{y} e^{z} \\log{\\left(e \\right)} + \\cos{\\left(x \\right)} \\cos{\\left(z \\right)}$"
      ],
      "text/plain": [
       "3*e**y*e**z*log(e) + cos(x)*cos(z)"
      ]
     },
     "execution_count": 70,
     "metadata": {},
     "output_type": "execute_result"
    }
   ],
   "source": [
    "fz4 = diff(fxyz4, z)\n",
    "fz4"
   ]
  },
  {
   "cell_type": "code",
   "execution_count": 79,
   "metadata": {},
   "outputs": [
    {
     "data": {
      "text/latex": [
       "$\\displaystyle 2.99084590467483 \\cdot 2.71^{y} + \\cos{\\left(x \\right)}$"
      ],
      "text/plain": [
       "2.99084590467483*2.71**y + cos(x)"
      ]
     },
     "execution_count": 79,
     "metadata": {},
     "output_type": "execute_result"
    }
   ],
   "source": [
    "fz4.subs(z, 0).subs(e, 2.71)"
   ]
  },
  {
   "cell_type": "code",
   "execution_count": 32,
   "metadata": {},
   "outputs": [],
   "source": [
    "# J(0, 0, 0) = [0, 3, 4]"
   ]
  },
  {
   "cell_type": "code",
   "execution_count": 72,
   "metadata": {},
   "outputs": [
    {
     "data": {
      "text/latex": [
       "$\\displaystyle e^{y} x \\cos{\\left(z \\right)} + 5 e^{z} x^{2} \\sin{\\left(y \\right)}$"
      ],
      "text/plain": [
       "e**y*x*cos(z) + 5*e**z*x**2*sin(y)"
      ]
     },
     "execution_count": 72,
     "metadata": {},
     "output_type": "execute_result"
    }
   ],
   "source": [
    "# Problem 5\n",
    "fxyz5 = x* e**y * cos(z) + 5 * x**2*sin(y)*e**z\n",
    "fxyz5"
   ]
  },
  {
   "cell_type": "code",
   "execution_count": 73,
   "metadata": {},
   "outputs": [
    {
     "data": {
      "text/latex": [
       "$\\displaystyle e^{y} \\cos{\\left(z \\right)} + 10 e^{z} x \\sin{\\left(y \\right)}$"
      ],
      "text/plain": [
       "e**y*cos(z) + 10*e**z*x*sin(y)"
      ]
     },
     "execution_count": 73,
     "metadata": {},
     "output_type": "execute_result"
    }
   ],
   "source": [
    "fx5 = diff(fxyz5, x)\n",
    "fx5"
   ]
  },
  {
   "cell_type": "code",
   "execution_count": 80,
   "metadata": {},
   "outputs": [
    {
     "data": {
      "text/latex": [
       "$\\displaystyle 2.71^{y} \\cos{\\left(z \\right)}$"
      ],
      "text/plain": [
       "2.71**y*cos(z)"
      ]
     },
     "execution_count": 80,
     "metadata": {},
     "output_type": "execute_result"
    }
   ],
   "source": [
    "fx5.subs(x, 0).subs(e, 2.71)"
   ]
  },
  {
   "cell_type": "code",
   "execution_count": 75,
   "metadata": {},
   "outputs": [
    {
     "data": {
      "text/latex": [
       "$\\displaystyle e^{y} x \\log{\\left(e \\right)} \\cos{\\left(z \\right)} + 5 e^{z} x^{2} \\cos{\\left(y \\right)}$"
      ],
      "text/plain": [
       "e**y*x*log(e)*cos(z) + 5*e**z*x**2*cos(y)"
      ]
     },
     "execution_count": 75,
     "metadata": {},
     "output_type": "execute_result"
    }
   ],
   "source": [
    "fy5 = diff(fxyz5, y)\n",
    "fy5"
   ]
  },
  {
   "cell_type": "code",
   "execution_count": 81,
   "metadata": {},
   "outputs": [
    {
     "data": {
      "text/latex": [
       "$\\displaystyle 5 \\cdot 2.71^{z} x^{2} + 0.99694863489161 x \\cos{\\left(z \\right)}$"
      ],
      "text/plain": [
       "5*2.71**z*x**2 + 0.99694863489161*x*cos(z)"
      ]
     },
     "execution_count": 81,
     "metadata": {},
     "output_type": "execute_result"
    }
   ],
   "source": [
    "fy5.subs(y, 0).subs(e, 2.71)"
   ]
  },
  {
   "cell_type": "code",
   "execution_count": 36,
   "metadata": {},
   "outputs": [
    {
     "data": {
      "text/latex": [
       "$\\displaystyle - e^{y} x \\sin{\\left(z \\right)} + 5 e^{z} x^{2} \\log{\\left(e \\right)} \\sin{\\left(y \\right)}$"
      ],
      "text/plain": [
       "-e**y*x*sin(z) + 5*e**z*x**2*log(e)*sin(y)"
      ]
     },
     "execution_count": 36,
     "metadata": {},
     "output_type": "execute_result"
    }
   ],
   "source": [
    "fz5 = diff(fxyz5, z)\n",
    "fz5"
   ]
  },
  {
   "cell_type": "code",
   "execution_count": 82,
   "metadata": {},
   "outputs": [
    {
     "data": {
      "text/latex": [
       "$\\displaystyle 4.98474317445805 x^{2} \\sin{\\left(y \\right)}$"
      ],
      "text/plain": [
       "4.98474317445805*x**2*sin(y)"
      ]
     },
     "execution_count": 82,
     "metadata": {},
     "output_type": "execute_result"
    }
   ],
   "source": [
    "fz5.subs(z, 0).subs(e, 2.71)"
   ]
  },
  {
   "cell_type": "markdown",
   "metadata": {},
   "source": [
    "# Jacobian Applied"
   ]
  },
  {
   "cell_type": "code",
   "execution_count": 84,
   "metadata": {},
   "outputs": [
    {
     "data": {
      "text/latex": [
       "$\\displaystyle e^{- x^{2} - y^{2}}$"
      ],
      "text/plain": [
       "e**(-x**2 - y**2)"
      ]
     },
     "execution_count": 84,
     "metadata": {},
     "output_type": "execute_result"
    }
   ],
   "source": [
    "w = e**-(x**2 + y**2)\n",
    "w"
   ]
  },
  {
   "cell_type": "code",
   "execution_count": 92,
   "metadata": {},
   "outputs": [
    {
     "data": {
      "text/latex": [
       "$\\displaystyle - 2 e^{- x^{2} - y^{2}} x \\log{\\left(e \\right)}$"
      ],
      "text/plain": [
       "-2*e**(-x**2 - y**2)*x*log(e)"
      ]
     },
     "execution_count": 92,
     "metadata": {},
     "output_type": "execute_result"
    }
   ],
   "source": [
    "# Problem 1\n",
    "x_diff = diff(w, x)\n",
    "x_diff"
   ]
  },
  {
   "cell_type": "code",
   "execution_count": 94,
   "metadata": {},
   "outputs": [
    {
     "data": {
      "text/latex": [
       "$\\displaystyle 1.99389726978322 \\cdot 2.71^{- y^{2} - 1}$"
      ],
      "text/plain": [
       "1.99389726978322*2.71**(-y**2 - 1)"
      ]
     },
     "execution_count": 94,
     "metadata": {},
     "output_type": "execute_result"
    }
   ],
   "source": [
    "x_diff.subs(x, -1).subs(e, 2.71)"
   ]
  },
  {
   "cell_type": "code",
   "execution_count": 86,
   "metadata": {},
   "outputs": [
    {
     "data": {
      "text/latex": [
       "$\\displaystyle - 2 e^{- x^{2} - y^{2}} y \\log{\\left(e \\right)}$"
      ],
      "text/plain": [
       "-2*e**(-x**2 - y**2)*y*log(e)"
      ]
     },
     "execution_count": 86,
     "metadata": {},
     "output_type": "execute_result"
    }
   ],
   "source": [
    "y_diff = diff(w, y)\n",
    "y_diff"
   ]
  },
  {
   "cell_type": "code",
   "execution_count": 96,
   "metadata": {},
   "outputs": [
    {
     "data": {
      "text/latex": [
       "$\\displaystyle - 1.99389726978322 \\cdot 2.71^{- x^{2} - 1}$"
      ],
      "text/plain": [
       "-1.99389726978322*2.71**(-x**2 - 1)"
      ]
     },
     "execution_count": 96,
     "metadata": {},
     "output_type": "execute_result"
    }
   ],
   "source": [
    "y_diff.subs(y, 1).subs(e, 2.71)"
   ]
  },
  {
   "cell_type": "markdown",
   "metadata": {},
   "source": [
    "**Jacobian Matrix**"
   ]
  },
  {
   "cell_type": "code",
   "execution_count": 99,
   "metadata": {},
   "outputs": [
    {
     "name": "stdout",
     "output_type": "stream",
     "text": [
      "u =  x - 2*y\n"
     ]
    }
   ],
   "source": [
    "u = x - 2*y\n",
    "print(\"u = \", u)"
   ]
  },
  {
   "cell_type": "code",
   "execution_count": 100,
   "metadata": {},
   "outputs": [
    {
     "name": "stdout",
     "output_type": "stream",
     "text": [
      "v =  -2*x + 3*y\n"
     ]
    }
   ],
   "source": [
    "v = 3*y -2*x\n",
    "print(\"v = \", v)"
   ]
  },
  {
   "cell_type": "code",
   "execution_count": 101,
   "metadata": {},
   "outputs": [
    {
     "data": {
      "text/latex": [
       "$\\displaystyle 1$"
      ],
      "text/plain": [
       "1"
      ]
     },
     "execution_count": 101,
     "metadata": {},
     "output_type": "execute_result"
    }
   ],
   "source": [
    "d_ux = diff(u, x)\n",
    "d_ux"
   ]
  },
  {
   "cell_type": "code",
   "execution_count": 102,
   "metadata": {},
   "outputs": [
    {
     "data": {
      "text/latex": [
       "$\\displaystyle -2$"
      ],
      "text/plain": [
       "-2"
      ]
     },
     "execution_count": 102,
     "metadata": {},
     "output_type": "execute_result"
    }
   ],
   "source": [
    "d_uy = diff(u, y)\n",
    "d_uy"
   ]
  },
  {
   "cell_type": "code",
   "execution_count": 103,
   "metadata": {},
   "outputs": [
    {
     "data": {
      "text/latex": [
       "$\\displaystyle -2$"
      ],
      "text/plain": [
       "-2"
      ]
     },
     "execution_count": 103,
     "metadata": {},
     "output_type": "execute_result"
    }
   ],
   "source": [
    "d_vx = diff(v, x)\n",
    "d_vx"
   ]
  },
  {
   "cell_type": "code",
   "execution_count": 104,
   "metadata": {},
   "outputs": [
    {
     "data": {
      "text/latex": [
       "$\\displaystyle 3$"
      ],
      "text/plain": [
       "3"
      ]
     },
     "execution_count": 104,
     "metadata": {},
     "output_type": "execute_result"
    }
   ],
   "source": [
    "d_vy = diff(v, y)\n",
    "d_vy"
   ]
  },
  {
   "cell_type": "code",
   "execution_count": 107,
   "metadata": {},
   "outputs": [
    {
     "data": {
      "text/latex": [
       "$\\displaystyle \\left[\\begin{matrix}1 & -2\\\\-2 & 3\\end{matrix}\\right]$"
      ],
      "text/plain": [
       "Matrix([\n",
       "[ 1, -2],\n",
       "[-2,  3]])"
      ]
     },
     "execution_count": 107,
     "metadata": {},
     "output_type": "execute_result"
    }
   ],
   "source": [
    "J = Matrix([[d_ux, d_uy],\n",
    "                          [d_vx, d_vy]])\n",
    "J"
   ]
  },
  {
   "cell_type": "code",
   "execution_count": 108,
   "metadata": {},
   "outputs": [],
   "source": [
    "Jacobian_Matrix = J * Matrix([[2],\n",
    "                              [3]])"
   ]
  },
  {
   "cell_type": "code",
   "execution_count": 109,
   "metadata": {},
   "outputs": [
    {
     "data": {
      "text/latex": [
       "$\\displaystyle \\left[\\begin{matrix}-4\\\\5\\end{matrix}\\right]$"
      ],
      "text/plain": [
       "Matrix([\n",
       "[-4],\n",
       "[ 5]])"
      ]
     },
     "execution_count": 109,
     "metadata": {},
     "output_type": "execute_result"
    }
   ],
   "source": [
    "Jacobian_Matrix"
   ]
  },
  {
   "cell_type": "markdown",
   "metadata": {},
   "source": [
    "# Bigger Jacobians!"
   ]
  },
  {
   "cell_type": "markdown",
   "metadata": {},
   "source": [
    "**Question 1**"
   ]
  },
  {
   "cell_type": "code",
   "execution_count": 110,
   "metadata": {},
   "outputs": [
    {
     "data": {
      "text/latex": [
       "$\\displaystyle x^{2} - y^{2}$"
      ],
      "text/plain": [
       "x**2 - y**2"
      ]
     },
     "execution_count": 110,
     "metadata": {},
     "output_type": "execute_result"
    }
   ],
   "source": [
    "a = x**2 - y**2\n",
    "a"
   ]
  },
  {
   "cell_type": "code",
   "execution_count": 111,
   "metadata": {},
   "outputs": [
    {
     "data": {
      "text/latex": [
       "$\\displaystyle 2 x y$"
      ],
      "text/plain": [
       "2*x*y"
      ]
     },
     "execution_count": 111,
     "metadata": {},
     "output_type": "execute_result"
    }
   ],
   "source": [
    "b = 2*x*y\n",
    "b"
   ]
  },
  {
   "cell_type": "code",
   "execution_count": 112,
   "metadata": {},
   "outputs": [
    {
     "data": {
      "text/latex": [
       "$\\displaystyle 2 x$"
      ],
      "text/plain": [
       "2*x"
      ]
     },
     "execution_count": 112,
     "metadata": {},
     "output_type": "execute_result"
    }
   ],
   "source": [
    "a_x = diff(a, x)\n",
    "a_x"
   ]
  },
  {
   "cell_type": "code",
   "execution_count": 113,
   "metadata": {},
   "outputs": [
    {
     "data": {
      "text/latex": [
       "$\\displaystyle - 2 y$"
      ],
      "text/plain": [
       "-2*y"
      ]
     },
     "execution_count": 113,
     "metadata": {},
     "output_type": "execute_result"
    }
   ],
   "source": [
    "a_y = diff(a, y)\n",
    "a_y"
   ]
  },
  {
   "cell_type": "code",
   "execution_count": 114,
   "metadata": {},
   "outputs": [
    {
     "data": {
      "text/latex": [
       "$\\displaystyle 2 y$"
      ],
      "text/plain": [
       "2*y"
      ]
     },
     "execution_count": 114,
     "metadata": {},
     "output_type": "execute_result"
    }
   ],
   "source": [
    "b_x = diff(b, x)\n",
    "b_x"
   ]
  },
  {
   "cell_type": "code",
   "execution_count": 115,
   "metadata": {},
   "outputs": [
    {
     "data": {
      "text/latex": [
       "$\\displaystyle 2 x$"
      ],
      "text/plain": [
       "2*x"
      ]
     },
     "execution_count": 115,
     "metadata": {},
     "output_type": "execute_result"
    }
   ],
   "source": [
    "b_y = diff(b, y)\n",
    "b_y"
   ]
  },
  {
   "cell_type": "code",
   "execution_count": 117,
   "metadata": {},
   "outputs": [
    {
     "data": {
      "text/latex": [
       "$\\displaystyle \\left[\\begin{matrix}2 x & - 2 y\\\\2 y & 2 x\\end{matrix}\\right]$"
      ],
      "text/plain": [
       "Matrix([\n",
       "[2*x, -2*y],\n",
       "[2*y,  2*x]])"
      ]
     },
     "execution_count": 117,
     "metadata": {},
     "output_type": "execute_result"
    }
   ],
   "source": [
    "Jacobian = Matrix([[a_x, a_y],\n",
    "            [b_x, b_y]])\n",
    "Jacobian"
   ]
  },
  {
   "cell_type": "markdown",
   "metadata": {},
   "source": [
    "**Question 2**"
   ]
  },
  {
   "cell_type": "code",
   "execution_count": 118,
   "metadata": {},
   "outputs": [
    {
     "data": {
      "text/latex": [
       "$\\displaystyle 2 x + 3 y$"
      ],
      "text/plain": [
       "2*x + 3*y"
      ]
     },
     "execution_count": 118,
     "metadata": {},
     "output_type": "execute_result"
    }
   ],
   "source": [
    "c = 2*x + 3*y\n",
    "c"
   ]
  },
  {
   "cell_type": "code",
   "execution_count": 119,
   "metadata": {},
   "outputs": [
    {
     "data": {
      "text/latex": [
       "$\\displaystyle \\sin{\\left(z \\right)} \\cos{\\left(x \\right)}$"
      ],
      "text/plain": [
       "sin(z)*cos(x)"
      ]
     },
     "execution_count": 119,
     "metadata": {},
     "output_type": "execute_result"
    }
   ],
   "source": [
    "d = cos(x)*sin(z)\n",
    "d"
   ]
  },
  {
   "cell_type": "code",
   "execution_count": 120,
   "metadata": {},
   "outputs": [
    {
     "data": {
      "text/latex": [
       "$\\displaystyle e^{x} e^{y} e^{z}$"
      ],
      "text/plain": [
       "e**x*e**y*e**z"
      ]
     },
     "execution_count": 120,
     "metadata": {},
     "output_type": "execute_result"
    }
   ],
   "source": [
    "w = e**x*e**y*e**z\n",
    "w"
   ]
  },
  {
   "cell_type": "code",
   "execution_count": 121,
   "metadata": {},
   "outputs": [
    {
     "data": {
      "text/latex": [
       "$\\displaystyle 2$"
      ],
      "text/plain": [
       "2"
      ]
     },
     "execution_count": 121,
     "metadata": {},
     "output_type": "execute_result"
    }
   ],
   "source": [
    "c_x = diff(c, x)\n",
    "c_x"
   ]
  },
  {
   "cell_type": "code",
   "execution_count": 122,
   "metadata": {},
   "outputs": [
    {
     "data": {
      "text/latex": [
       "$\\displaystyle 3$"
      ],
      "text/plain": [
       "3"
      ]
     },
     "execution_count": 122,
     "metadata": {},
     "output_type": "execute_result"
    }
   ],
   "source": [
    "c_y = diff(c, y)\n",
    "c_y"
   ]
  },
  {
   "cell_type": "code",
   "execution_count": 123,
   "metadata": {},
   "outputs": [
    {
     "data": {
      "text/latex": [
       "$\\displaystyle 0$"
      ],
      "text/plain": [
       "0"
      ]
     },
     "execution_count": 123,
     "metadata": {},
     "output_type": "execute_result"
    }
   ],
   "source": [
    "c_z = diff(c, z)\n",
    "c_z"
   ]
  },
  {
   "cell_type": "code",
   "execution_count": 124,
   "metadata": {},
   "outputs": [
    {
     "data": {
      "text/latex": [
       "$\\displaystyle - \\sin{\\left(x \\right)} \\sin{\\left(z \\right)}$"
      ],
      "text/plain": [
       "-sin(x)*sin(z)"
      ]
     },
     "execution_count": 124,
     "metadata": {},
     "output_type": "execute_result"
    }
   ],
   "source": [
    "d_x = diff(d, x)\n",
    "d_x"
   ]
  },
  {
   "cell_type": "code",
   "execution_count": 125,
   "metadata": {},
   "outputs": [
    {
     "data": {
      "text/latex": [
       "$\\displaystyle 0$"
      ],
      "text/plain": [
       "0"
      ]
     },
     "execution_count": 125,
     "metadata": {},
     "output_type": "execute_result"
    }
   ],
   "source": [
    "d_y = diff(d, y)\n",
    "d_y"
   ]
  },
  {
   "cell_type": "code",
   "execution_count": 126,
   "metadata": {},
   "outputs": [
    {
     "data": {
      "text/latex": [
       "$\\displaystyle \\cos{\\left(x \\right)} \\cos{\\left(z \\right)}$"
      ],
      "text/plain": [
       "cos(x)*cos(z)"
      ]
     },
     "execution_count": 126,
     "metadata": {},
     "output_type": "execute_result"
    }
   ],
   "source": [
    "d_z = diff(d, z)\n",
    "d_z"
   ]
  },
  {
   "cell_type": "code",
   "execution_count": 127,
   "metadata": {},
   "outputs": [
    {
     "data": {
      "text/latex": [
       "$\\displaystyle e^{x} e^{y} e^{z} \\log{\\left(e \\right)}$"
      ],
      "text/plain": [
       "e**x*e**y*e**z*log(e)"
      ]
     },
     "execution_count": 127,
     "metadata": {},
     "output_type": "execute_result"
    }
   ],
   "source": [
    "w_x = diff(w, x)\n",
    "w_x"
   ]
  },
  {
   "cell_type": "code",
   "execution_count": 128,
   "metadata": {},
   "outputs": [
    {
     "data": {
      "text/latex": [
       "$\\displaystyle e^{x} e^{y} e^{z} \\log{\\left(e \\right)}$"
      ],
      "text/plain": [
       "e**x*e**y*e**z*log(e)"
      ]
     },
     "execution_count": 128,
     "metadata": {},
     "output_type": "execute_result"
    }
   ],
   "source": [
    "w_y = diff(w, y)\n",
    "w_y"
   ]
  },
  {
   "cell_type": "code",
   "execution_count": 129,
   "metadata": {},
   "outputs": [
    {
     "data": {
      "text/latex": [
       "$\\displaystyle e^{x} e^{y} e^{z} \\log{\\left(e \\right)}$"
      ],
      "text/plain": [
       "e**x*e**y*e**z*log(e)"
      ]
     },
     "execution_count": 129,
     "metadata": {},
     "output_type": "execute_result"
    }
   ],
   "source": [
    "w_z = diff(w, z)\n",
    "w_z"
   ]
  },
  {
   "cell_type": "code",
   "execution_count": 130,
   "metadata": {},
   "outputs": [
    {
     "data": {
      "text/latex": [
       "$\\displaystyle \\left[\\begin{matrix}2 & 3 & 0\\\\- \\sin{\\left(x \\right)} \\sin{\\left(z \\right)} & 0 & \\cos{\\left(x \\right)} \\cos{\\left(z \\right)}\\\\e^{x} e^{y} e^{z} \\log{\\left(e \\right)} & e^{x} e^{y} e^{z} \\log{\\left(e \\right)} & e^{x} e^{y} e^{z} \\log{\\left(e \\right)}\\end{matrix}\\right]$"
      ],
      "text/plain": [
       "Matrix([\n",
       "[                    2,                     3,                     0],\n",
       "[       -sin(x)*sin(z),                     0,         cos(x)*cos(z)],\n",
       "[e**x*e**y*e**z*log(e), e**x*e**y*e**z*log(e), e**x*e**y*e**z*log(e)]])"
      ]
     },
     "execution_count": 130,
     "metadata": {},
     "output_type": "execute_result"
    }
   ],
   "source": [
    "J = Matrix([[c_x, c_y, c_z],\n",
    "            [d_x, d_y, d_z],\n",
    "            [w_x, w_y, w_z]])\n",
    "J"
   ]
  },
  {
   "cell_type": "markdown",
   "metadata": {},
   "source": [
    "**Question 3**"
   ]
  },
  {
   "cell_type": "code",
   "execution_count": 5,
   "metadata": {},
   "outputs": [
    {
     "data": {
      "text/latex": [
       "$\\displaystyle a x + b y$"
      ],
      "text/plain": [
       "a*x + b*y"
      ]
     },
     "execution_count": 5,
     "metadata": {},
     "output_type": "execute_result"
    }
   ],
   "source": [
    "g = a*x + b*y\n",
    "g"
   ]
  },
  {
   "cell_type": "code",
   "execution_count": 8,
   "metadata": {},
   "outputs": [
    {
     "data": {
      "text/latex": [
       "$\\displaystyle c x + d y$"
      ],
      "text/plain": [
       "c*x + d*y"
      ]
     },
     "execution_count": 8,
     "metadata": {},
     "output_type": "execute_result"
    }
   ],
   "source": [
    "h = c*x + d*y\n",
    "h"
   ]
  },
  {
   "cell_type": "code",
   "execution_count": 9,
   "metadata": {},
   "outputs": [
    {
     "data": {
      "text/latex": [
       "$\\displaystyle a$"
      ],
      "text/plain": [
       "a"
      ]
     },
     "execution_count": 9,
     "metadata": {},
     "output_type": "execute_result"
    }
   ],
   "source": [
    "g_x = diff(g, x)\n",
    "g_x"
   ]
  },
  {
   "cell_type": "code",
   "execution_count": 10,
   "metadata": {},
   "outputs": [
    {
     "data": {
      "text/latex": [
       "$\\displaystyle b$"
      ],
      "text/plain": [
       "b"
      ]
     },
     "execution_count": 10,
     "metadata": {},
     "output_type": "execute_result"
    }
   ],
   "source": [
    "g_y = diff(g, y)\n",
    "g_y"
   ]
  },
  {
   "cell_type": "code",
   "execution_count": 11,
   "metadata": {},
   "outputs": [
    {
     "data": {
      "text/latex": [
       "$\\displaystyle c$"
      ],
      "text/plain": [
       "c"
      ]
     },
     "execution_count": 11,
     "metadata": {},
     "output_type": "execute_result"
    }
   ],
   "source": [
    "h_x = diff(h, x)\n",
    "h_x"
   ]
  },
  {
   "cell_type": "code",
   "execution_count": 12,
   "metadata": {},
   "outputs": [
    {
     "data": {
      "text/latex": [
       "$\\displaystyle d$"
      ],
      "text/plain": [
       "d"
      ]
     },
     "execution_count": 12,
     "metadata": {},
     "output_type": "execute_result"
    }
   ],
   "source": [
    "h_y = diff(h, y)\n",
    "h_y"
   ]
  },
  {
   "cell_type": "code",
   "execution_count": 13,
   "metadata": {},
   "outputs": [
    {
     "data": {
      "text/latex": [
       "$\\displaystyle \\left[\\begin{matrix}a & b\\\\c & d\\end{matrix}\\right]$"
      ],
      "text/plain": [
       "Matrix([\n",
       "[a, b],\n",
       "[c, d]])"
      ]
     },
     "execution_count": 13,
     "metadata": {},
     "output_type": "execute_result"
    }
   ],
   "source": [
    "Jacobian3 = Matrix([[g_x, g_y],\n",
    "                    [h_x, h_y]])\n",
    "Jacobian3"
   ]
  },
  {
   "cell_type": "markdown",
   "metadata": {},
   "source": [
    "**Question 4**"
   ]
  },
  {
   "cell_type": "code",
   "execution_count": 14,
   "metadata": {},
   "outputs": [
    {
     "data": {
      "text/latex": [
       "$\\displaystyle e^{x} z + 9 x^{2} y^{2}$"
      ],
      "text/plain": [
       "e**x*z + 9*x**2*y**2"
      ]
     },
     "execution_count": 14,
     "metadata": {},
     "output_type": "execute_result"
    }
   ],
   "source": [
    "i = 9*x**2*y**2 + z*e**x\n",
    "i"
   ]
  },
  {
   "cell_type": "code",
   "execution_count": 15,
   "metadata": {},
   "outputs": [
    {
     "data": {
      "text/latex": [
       "$\\displaystyle x^{2} y^{3} + x y + 2 z$"
      ],
      "text/plain": [
       "x**2*y**3 + x*y + 2*z"
      ]
     },
     "execution_count": 15,
     "metadata": {},
     "output_type": "execute_result"
    }
   ],
   "source": [
    "j = x*y + x**2*y**3+2*z\n",
    "j"
   ]
  },
  {
   "cell_type": "code",
   "execution_count": 16,
   "metadata": {},
   "outputs": [
    {
     "data": {
      "text/latex": [
       "$\\displaystyle e^{y} \\sin{\\left(z \\right)} \\cos{\\left(x \\right)}$"
      ],
      "text/plain": [
       "e**y*sin(z)*cos(x)"
      ]
     },
     "execution_count": 16,
     "metadata": {},
     "output_type": "execute_result"
    }
   ],
   "source": [
    "k = cos(x)*sin(z)*e**y\n",
    "k"
   ]
  },
  {
   "cell_type": "code",
   "execution_count": 17,
   "metadata": {},
   "outputs": [
    {
     "data": {
      "text/latex": [
       "$\\displaystyle e^{x} z \\log{\\left(e \\right)} + 18 x y^{2}$"
      ],
      "text/plain": [
       "e**x*z*log(e) + 18*x*y**2"
      ]
     },
     "execution_count": 17,
     "metadata": {},
     "output_type": "execute_result"
    }
   ],
   "source": [
    "i_x = diff(i, x)\n",
    "i_x"
   ]
  },
  {
   "cell_type": "code",
   "execution_count": 29,
   "metadata": {},
   "outputs": [
    {
     "data": {
      "text/latex": [
       "$\\displaystyle z \\log{\\left(e \\right)}$"
      ],
      "text/plain": [
       "z*log(e)"
      ]
     },
     "execution_count": 29,
     "metadata": {},
     "output_type": "execute_result"
    }
   ],
   "source": [
    "ix = i_x.subs(x, 0)\n",
    "ix"
   ]
  },
  {
   "cell_type": "code",
   "execution_count": 19,
   "metadata": {},
   "outputs": [
    {
     "data": {
      "text/latex": [
       "$\\displaystyle 18 x^{2} y$"
      ],
      "text/plain": [
       "18*x**2*y"
      ]
     },
     "execution_count": 19,
     "metadata": {},
     "output_type": "execute_result"
    }
   ],
   "source": [
    "i_y = diff(i, y)\n",
    "i_y"
   ]
  },
  {
   "cell_type": "code",
   "execution_count": 30,
   "metadata": {},
   "outputs": [
    {
     "data": {
      "text/latex": [
       "$\\displaystyle 0$"
      ],
      "text/plain": [
       "0"
      ]
     },
     "execution_count": 30,
     "metadata": {},
     "output_type": "execute_result"
    }
   ],
   "source": [
    "iy = i_y.subs(y, 0)\n",
    "iy"
   ]
  },
  {
   "cell_type": "code",
   "execution_count": 21,
   "metadata": {},
   "outputs": [
    {
     "data": {
      "text/latex": [
       "$\\displaystyle e^{x}$"
      ],
      "text/plain": [
       "e**x"
      ]
     },
     "execution_count": 21,
     "metadata": {},
     "output_type": "execute_result"
    }
   ],
   "source": [
    "i_z = diff(i, z)\n",
    "i_z"
   ]
  },
  {
   "cell_type": "code",
   "execution_count": 31,
   "metadata": {},
   "outputs": [
    {
     "data": {
      "text/latex": [
       "$\\displaystyle e^{x}$"
      ],
      "text/plain": [
       "e**x"
      ]
     },
     "execution_count": 31,
     "metadata": {},
     "output_type": "execute_result"
    }
   ],
   "source": [
    "iz = i_z.subs(z, 0)\n",
    "iz"
   ]
  },
  {
   "cell_type": "code",
   "execution_count": 23,
   "metadata": {},
   "outputs": [
    {
     "data": {
      "text/latex": [
       "$\\displaystyle 2 x y^{3} + y$"
      ],
      "text/plain": [
       "2*x*y**3 + y"
      ]
     },
     "execution_count": 23,
     "metadata": {},
     "output_type": "execute_result"
    }
   ],
   "source": [
    "j_x = diff(j, x)\n",
    "j_x"
   ]
  },
  {
   "cell_type": "code",
   "execution_count": 32,
   "metadata": {},
   "outputs": [
    {
     "data": {
      "text/latex": [
       "$\\displaystyle y$"
      ],
      "text/plain": [
       "y"
      ]
     },
     "execution_count": 32,
     "metadata": {},
     "output_type": "execute_result"
    }
   ],
   "source": [
    "jx = j_x.subs(x, 0)\n",
    "jx"
   ]
  },
  {
   "cell_type": "code",
   "execution_count": 25,
   "metadata": {},
   "outputs": [
    {
     "data": {
      "text/latex": [
       "$\\displaystyle 3 x^{2} y^{2} + x$"
      ],
      "text/plain": [
       "3*x**2*y**2 + x"
      ]
     },
     "execution_count": 25,
     "metadata": {},
     "output_type": "execute_result"
    }
   ],
   "source": [
    "j_y = diff(j, y)\n",
    "j_y"
   ]
  },
  {
   "cell_type": "code",
   "execution_count": 33,
   "metadata": {},
   "outputs": [
    {
     "data": {
      "text/latex": [
       "$\\displaystyle x$"
      ],
      "text/plain": [
       "x"
      ]
     },
     "execution_count": 33,
     "metadata": {},
     "output_type": "execute_result"
    }
   ],
   "source": [
    "jy = j_y.subs(y, 0)\n",
    "jy"
   ]
  },
  {
   "cell_type": "code",
   "execution_count": 27,
   "metadata": {},
   "outputs": [
    {
     "data": {
      "text/latex": [
       "$\\displaystyle 2$"
      ],
      "text/plain": [
       "2"
      ]
     },
     "execution_count": 27,
     "metadata": {},
     "output_type": "execute_result"
    }
   ],
   "source": [
    "j_z = diff(j, z)\n",
    "j_z"
   ]
  },
  {
   "cell_type": "code",
   "execution_count": 34,
   "metadata": {},
   "outputs": [
    {
     "data": {
      "text/latex": [
       "$\\displaystyle 2$"
      ],
      "text/plain": [
       "2"
      ]
     },
     "execution_count": 34,
     "metadata": {},
     "output_type": "execute_result"
    }
   ],
   "source": [
    "jz = j_z.subs(z, 0)\n",
    "jz"
   ]
  },
  {
   "cell_type": "code",
   "execution_count": 35,
   "metadata": {},
   "outputs": [
    {
     "data": {
      "text/latex": [
       "$\\displaystyle - e^{y} \\sin{\\left(x \\right)} \\sin{\\left(z \\right)}$"
      ],
      "text/plain": [
       "-e**y*sin(x)*sin(z)"
      ]
     },
     "execution_count": 35,
     "metadata": {},
     "output_type": "execute_result"
    }
   ],
   "source": [
    "k_x = diff(k, x)\n",
    "k_x"
   ]
  },
  {
   "cell_type": "code",
   "execution_count": 36,
   "metadata": {},
   "outputs": [
    {
     "data": {
      "text/latex": [
       "$\\displaystyle 0$"
      ],
      "text/plain": [
       "0"
      ]
     },
     "execution_count": 36,
     "metadata": {},
     "output_type": "execute_result"
    }
   ],
   "source": [
    "kx = k_x.subs(x, 0)\n",
    "kx"
   ]
  },
  {
   "cell_type": "code",
   "execution_count": 37,
   "metadata": {},
   "outputs": [
    {
     "data": {
      "text/latex": [
       "$\\displaystyle e^{y} \\log{\\left(e \\right)} \\sin{\\left(z \\right)} \\cos{\\left(x \\right)}$"
      ],
      "text/plain": [
       "e**y*log(e)*sin(z)*cos(x)"
      ]
     },
     "execution_count": 37,
     "metadata": {},
     "output_type": "execute_result"
    }
   ],
   "source": [
    "k_y = diff(k, y)\n",
    "k_y"
   ]
  },
  {
   "cell_type": "code",
   "execution_count": 38,
   "metadata": {},
   "outputs": [
    {
     "data": {
      "text/latex": [
       "$\\displaystyle \\log{\\left(e \\right)} \\sin{\\left(z \\right)} \\cos{\\left(x \\right)}$"
      ],
      "text/plain": [
       "log(e)*sin(z)*cos(x)"
      ]
     },
     "execution_count": 38,
     "metadata": {},
     "output_type": "execute_result"
    }
   ],
   "source": [
    "ky = k_y.subs(y, 0)\n",
    "ky"
   ]
  },
  {
   "cell_type": "code",
   "execution_count": 40,
   "metadata": {},
   "outputs": [
    {
     "data": {
      "text/latex": [
       "$\\displaystyle e^{y} \\cos{\\left(x \\right)} \\cos{\\left(z \\right)}$"
      ],
      "text/plain": [
       "e**y*cos(x)*cos(z)"
      ]
     },
     "execution_count": 40,
     "metadata": {},
     "output_type": "execute_result"
    }
   ],
   "source": [
    "k_z = diff(k, z)\n",
    "k_z"
   ]
  },
  {
   "cell_type": "code",
   "execution_count": 41,
   "metadata": {},
   "outputs": [
    {
     "data": {
      "text/latex": [
       "$\\displaystyle e^{y} \\cos{\\left(x \\right)}$"
      ],
      "text/plain": [
       "e**y*cos(x)"
      ]
     },
     "execution_count": 41,
     "metadata": {},
     "output_type": "execute_result"
    }
   ],
   "source": [
    "kz = k_z.subs(z, 0)\n",
    "kz"
   ]
  },
  {
   "cell_type": "code",
   "execution_count": 42,
   "metadata": {},
   "outputs": [
    {
     "data": {
      "text/latex": [
       "$\\displaystyle \\left[\\begin{matrix}z \\log{\\left(e \\right)} & 0 & e^{x}\\\\y & x & 2\\\\0 & \\log{\\left(e \\right)} \\sin{\\left(z \\right)} \\cos{\\left(x \\right)} & e^{y} \\cos{\\left(x \\right)}\\end{matrix}\\right]$"
      ],
      "text/plain": [
       "Matrix([\n",
       "[z*log(e),                    0,        e**x],\n",
       "[       y,                    x,           2],\n",
       "[       0, log(e)*sin(z)*cos(x), e**y*cos(x)]])"
      ]
     },
     "execution_count": 42,
     "metadata": {},
     "output_type": "execute_result"
    }
   ],
   "source": [
    "Jacobian4 = Matrix([[ix, iy, iz],\n",
    "                    [jx, jy, jz],\n",
    "                    [kx, ky, kz]])\n",
    "Jacobian4"
   ]
  },
  {
   "cell_type": "code",
   "execution_count": 3,
   "metadata": {},
   "outputs": [],
   "source": [
    "k_abc = a*cos(b)*sin(c)\n",
    "l_abc = a*sin(b)*sin(c)\n",
    "m_abc = a*cos(c)"
   ]
  },
  {
   "cell_type": "code",
   "execution_count": 4,
   "metadata": {},
   "outputs": [
    {
     "data": {
      "text/latex": [
       "$\\displaystyle a \\sin{\\left(c \\right)} \\cos{\\left(b \\right)}$"
      ],
      "text/plain": [
       "a*sin(c)*cos(b)"
      ]
     },
     "execution_count": 4,
     "metadata": {},
     "output_type": "execute_result"
    }
   ],
   "source": [
    "k_abc"
   ]
  },
  {
   "cell_type": "code",
   "execution_count": 5,
   "metadata": {},
   "outputs": [
    {
     "data": {
      "text/latex": [
       "$\\displaystyle \\sin{\\left(c \\right)} \\cos{\\left(b \\right)}$"
      ],
      "text/plain": [
       "sin(c)*cos(b)"
      ]
     },
     "execution_count": 5,
     "metadata": {},
     "output_type": "execute_result"
    }
   ],
   "source": [
    "k_a = diff(k_abc, a)\n",
    "k_a"
   ]
  },
  {
   "cell_type": "code",
   "execution_count": 7,
   "metadata": {},
   "outputs": [
    {
     "data": {
      "text/latex": [
       "$\\displaystyle - a \\sin{\\left(b \\right)} \\sin{\\left(c \\right)}$"
      ],
      "text/plain": [
       "-a*sin(b)*sin(c)"
      ]
     },
     "execution_count": 7,
     "metadata": {},
     "output_type": "execute_result"
    }
   ],
   "source": [
    "k_b = diff(k_abc, b)\n",
    "k_b"
   ]
  },
  {
   "cell_type": "code",
   "execution_count": 8,
   "metadata": {},
   "outputs": [
    {
     "data": {
      "text/latex": [
       "$\\displaystyle a \\cos{\\left(b \\right)} \\cos{\\left(c \\right)}$"
      ],
      "text/plain": [
       "a*cos(b)*cos(c)"
      ]
     },
     "execution_count": 8,
     "metadata": {},
     "output_type": "execute_result"
    }
   ],
   "source": [
    "k_c = diff(k_abc, c)\n",
    "k_c"
   ]
  },
  {
   "cell_type": "code",
   "execution_count": 9,
   "metadata": {},
   "outputs": [
    {
     "data": {
      "text/latex": [
       "$\\displaystyle \\sin{\\left(b \\right)} \\sin{\\left(c \\right)}$"
      ],
      "text/plain": [
       "sin(b)*sin(c)"
      ]
     },
     "execution_count": 9,
     "metadata": {},
     "output_type": "execute_result"
    }
   ],
   "source": [
    "l_a = diff(l_abc, a)\n",
    "l_a"
   ]
  },
  {
   "cell_type": "code",
   "execution_count": 10,
   "metadata": {},
   "outputs": [
    {
     "data": {
      "text/latex": [
       "$\\displaystyle a \\sin{\\left(c \\right)} \\cos{\\left(b \\right)}$"
      ],
      "text/plain": [
       "a*sin(c)*cos(b)"
      ]
     },
     "execution_count": 10,
     "metadata": {},
     "output_type": "execute_result"
    }
   ],
   "source": [
    "l_b = diff(l_abc, b)\n",
    "l_b"
   ]
  },
  {
   "cell_type": "code",
   "execution_count": 11,
   "metadata": {},
   "outputs": [
    {
     "data": {
      "text/latex": [
       "$\\displaystyle a \\sin{\\left(b \\right)} \\cos{\\left(c \\right)}$"
      ],
      "text/plain": [
       "a*sin(b)*cos(c)"
      ]
     },
     "execution_count": 11,
     "metadata": {},
     "output_type": "execute_result"
    }
   ],
   "source": [
    "l_c = diff(l_abc, c)\n",
    "l_c"
   ]
  },
  {
   "cell_type": "code",
   "execution_count": 12,
   "metadata": {},
   "outputs": [
    {
     "data": {
      "text/latex": [
       "$\\displaystyle \\cos{\\left(c \\right)}$"
      ],
      "text/plain": [
       "cos(c)"
      ]
     },
     "execution_count": 12,
     "metadata": {},
     "output_type": "execute_result"
    }
   ],
   "source": [
    "m_a = diff(m_abc, a)\n",
    "m_a"
   ]
  },
  {
   "cell_type": "code",
   "execution_count": 13,
   "metadata": {},
   "outputs": [
    {
     "data": {
      "text/latex": [
       "$\\displaystyle 0$"
      ],
      "text/plain": [
       "0"
      ]
     },
     "execution_count": 13,
     "metadata": {},
     "output_type": "execute_result"
    }
   ],
   "source": [
    "m_b = diff(m_abc, b)\n",
    "m_b"
   ]
  },
  {
   "cell_type": "code",
   "execution_count": 14,
   "metadata": {},
   "outputs": [
    {
     "data": {
      "text/latex": [
       "$\\displaystyle - a \\sin{\\left(c \\right)}$"
      ],
      "text/plain": [
       "-a*sin(c)"
      ]
     },
     "execution_count": 14,
     "metadata": {},
     "output_type": "execute_result"
    }
   ],
   "source": [
    "m_c = diff(m_abc, c)\n",
    "m_c"
   ]
  },
  {
   "cell_type": "code",
   "execution_count": 15,
   "metadata": {},
   "outputs": [
    {
     "data": {
      "text/latex": [
       "$\\displaystyle \\left[\\begin{matrix}\\sin{\\left(c \\right)} \\cos{\\left(b \\right)} & - a \\sin{\\left(b \\right)} \\sin{\\left(c \\right)} & a \\cos{\\left(b \\right)} \\cos{\\left(c \\right)}\\\\\\sin{\\left(b \\right)} \\sin{\\left(c \\right)} & a \\sin{\\left(c \\right)} \\cos{\\left(b \\right)} & a \\sin{\\left(b \\right)} \\cos{\\left(c \\right)}\\\\\\cos{\\left(c \\right)} & 0 & - a \\sin{\\left(c \\right)}\\end{matrix}\\right]$"
      ],
      "text/plain": [
       "Matrix([\n",
       "[sin(c)*cos(b), -a*sin(b)*sin(c), a*cos(b)*cos(c)],\n",
       "[sin(b)*sin(c),  a*sin(c)*cos(b), a*sin(b)*cos(c)],\n",
       "[       cos(c),                0,       -a*sin(c)]])"
      ]
     },
     "execution_count": 15,
     "metadata": {},
     "output_type": "execute_result"
    }
   ],
   "source": [
    "Jacobian = Matrix([[k_a, k_b, k_c],\n",
    "                   [l_a, l_b, l_c],\n",
    "                   [m_a, m_b, m_c]])\n",
    "Jacobian"
   ]
  },
  {
   "cell_type": "markdown",
   "metadata": {},
   "source": [
    "# The Hessian"
   ]
  },
  {
   "cell_type": "code",
   "execution_count": 5,
   "metadata": {},
   "outputs": [
    {
     "data": {
      "text/latex": [
       "$\\displaystyle x^{2} y z$"
      ],
      "text/plain": [
       "x**2*y*z"
      ]
     },
     "execution_count": 5,
     "metadata": {},
     "output_type": "execute_result"
    }
   ],
   "source": [
    "fxyz = x**2*y*z\n",
    "fxyz"
   ]
  },
  {
   "cell_type": "code",
   "execution_count": 6,
   "metadata": {},
   "outputs": [
    {
     "data": {
      "text/latex": [
       "$\\displaystyle 2 x y z$"
      ],
      "text/plain": [
       "2*x*y*z"
      ]
     },
     "execution_count": 6,
     "metadata": {},
     "output_type": "execute_result"
    }
   ],
   "source": [
    "f_x = diff(fxyz, x)\n",
    "f_x"
   ]
  },
  {
   "cell_type": "code",
   "execution_count": 7,
   "metadata": {},
   "outputs": [
    {
     "data": {
      "text/latex": [
       "$\\displaystyle x^{2} z$"
      ],
      "text/plain": [
       "x**2*z"
      ]
     },
     "execution_count": 7,
     "metadata": {},
     "output_type": "execute_result"
    }
   ],
   "source": [
    "f_y = diff(fxyz, y)\n",
    "f_y"
   ]
  },
  {
   "cell_type": "code",
   "execution_count": 8,
   "metadata": {},
   "outputs": [
    {
     "data": {
      "text/latex": [
       "$\\displaystyle x^{2} y$"
      ],
      "text/plain": [
       "x**2*y"
      ]
     },
     "execution_count": 8,
     "metadata": {},
     "output_type": "execute_result"
    }
   ],
   "source": [
    "f_z = diff(fxyz, z)\n",
    "f_z"
   ]
  },
  {
   "cell_type": "code",
   "execution_count": 9,
   "metadata": {},
   "outputs": [
    {
     "data": {
      "text/latex": [
       "$\\displaystyle \\left[\\begin{matrix}2 x y z & x^{2} z & x^{2} y\\end{matrix}\\right]$"
      ],
      "text/plain": [
       "Matrix([[2*x*y*z, x**2*z, x**2*y]])"
      ]
     },
     "execution_count": 9,
     "metadata": {},
     "output_type": "execute_result"
    }
   ],
   "source": [
    "Jacobian = Matrix([[f_x, f_y, f_z]]) \n",
    "Jacobian"
   ]
  },
  {
   "cell_type": "code",
   "execution_count": 10,
   "metadata": {},
   "outputs": [
    {
     "data": {
      "text/latex": [
       "$\\displaystyle 2 y z$"
      ],
      "text/plain": [
       "2*y*z"
      ]
     },
     "execution_count": 10,
     "metadata": {},
     "output_type": "execute_result"
    }
   ],
   "source": [
    "jx_x = diff(f_x, x)\n",
    "jx_x"
   ]
  },
  {
   "cell_type": "code",
   "execution_count": 11,
   "metadata": {},
   "outputs": [
    {
     "data": {
      "text/latex": [
       "$\\displaystyle 2 x z$"
      ],
      "text/plain": [
       "2*x*z"
      ]
     },
     "execution_count": 11,
     "metadata": {},
     "output_type": "execute_result"
    }
   ],
   "source": [
    "jx_y = diff(f_x, y)\n",
    "jx_y"
   ]
  },
  {
   "cell_type": "code",
   "execution_count": 12,
   "metadata": {},
   "outputs": [
    {
     "data": {
      "text/latex": [
       "$\\displaystyle 2 x y$"
      ],
      "text/plain": [
       "2*x*y"
      ]
     },
     "execution_count": 12,
     "metadata": {},
     "output_type": "execute_result"
    }
   ],
   "source": [
    "jx_z = diff(f_x, z)\n",
    "jx_z"
   ]
  },
  {
   "cell_type": "code",
   "execution_count": 13,
   "metadata": {},
   "outputs": [
    {
     "data": {
      "text/latex": [
       "$\\displaystyle 2 x z$"
      ],
      "text/plain": [
       "2*x*z"
      ]
     },
     "execution_count": 13,
     "metadata": {},
     "output_type": "execute_result"
    }
   ],
   "source": [
    "jy_x = diff(f_y, x)\n",
    "jy_x"
   ]
  },
  {
   "cell_type": "code",
   "execution_count": 14,
   "metadata": {},
   "outputs": [
    {
     "data": {
      "text/latex": [
       "$\\displaystyle 0$"
      ],
      "text/plain": [
       "0"
      ]
     },
     "execution_count": 14,
     "metadata": {},
     "output_type": "execute_result"
    }
   ],
   "source": [
    "jy_y = diff(f_y, y)\n",
    "jy_y"
   ]
  },
  {
   "cell_type": "code",
   "execution_count": 16,
   "metadata": {},
   "outputs": [
    {
     "data": {
      "text/latex": [
       "$\\displaystyle x^{2}$"
      ],
      "text/plain": [
       "x**2"
      ]
     },
     "execution_count": 16,
     "metadata": {},
     "output_type": "execute_result"
    }
   ],
   "source": [
    "jy_z = diff(f_y, z)\n",
    "jy_z"
   ]
  },
  {
   "cell_type": "code",
   "execution_count": 17,
   "metadata": {},
   "outputs": [
    {
     "data": {
      "text/latex": [
       "$\\displaystyle 2 x y$"
      ],
      "text/plain": [
       "2*x*y"
      ]
     },
     "execution_count": 17,
     "metadata": {},
     "output_type": "execute_result"
    }
   ],
   "source": [
    "jz_x = diff(f_z, x)\n",
    "jz_x"
   ]
  },
  {
   "cell_type": "code",
   "execution_count": 18,
   "metadata": {},
   "outputs": [
    {
     "data": {
      "text/latex": [
       "$\\displaystyle x^{2}$"
      ],
      "text/plain": [
       "x**2"
      ]
     },
     "execution_count": 18,
     "metadata": {},
     "output_type": "execute_result"
    }
   ],
   "source": [
    "jz_y = diff(f_z, y)\n",
    "jz_y"
   ]
  },
  {
   "cell_type": "code",
   "execution_count": 19,
   "metadata": {},
   "outputs": [
    {
     "data": {
      "text/latex": [
       "$\\displaystyle 0$"
      ],
      "text/plain": [
       "0"
      ]
     },
     "execution_count": 19,
     "metadata": {},
     "output_type": "execute_result"
    }
   ],
   "source": [
    "jz_z = diff(f_z, z)\n",
    "jz_z"
   ]
  },
  {
   "cell_type": "code",
   "execution_count": 20,
   "metadata": {},
   "outputs": [
    {
     "data": {
      "text/latex": [
       "$\\displaystyle \\left[\\begin{matrix}2 y z & 2 x z & 2 x y\\\\2 x z & 0 & x^{2}\\\\2 x y & x^{2} & 0\\end{matrix}\\right]$"
      ],
      "text/plain": [
       "Matrix([\n",
       "[2*y*z, 2*x*z, 2*x*y],\n",
       "[2*x*z,     0,  x**2],\n",
       "[2*x*y,  x**2,     0]])"
      ]
     },
     "execution_count": 20,
     "metadata": {},
     "output_type": "execute_result"
    }
   ],
   "source": [
    "Hessian = Matrix([[jx_x, jx_y, jx_z],\n",
    "                  [jy_x, jy_y, jy_z],\n",
    "                  [jz_x, jz_y, jz_z]])\n",
    "Hessian"
   ]
  },
  {
   "cell_type": "markdown",
   "metadata": {},
   "source": [
    "# Calculating Hessians"
   ]
  },
  {
   "cell_type": "markdown",
   "metadata": {},
   "source": [
    "**Question 1**"
   ]
  },
  {
   "cell_type": "code",
   "execution_count": 22,
   "metadata": {},
   "outputs": [
    {
     "data": {
      "text/latex": [
       "$\\displaystyle x^{3} y + x + 2 y$"
      ],
      "text/plain": [
       "x**3*y + x + 2*y"
      ]
     },
     "execution_count": 22,
     "metadata": {},
     "output_type": "execute_result"
    }
   ],
   "source": [
    "fxy = x**3*y + x + 2*y\n",
    "fxy"
   ]
  },
  {
   "cell_type": "code",
   "execution_count": 23,
   "metadata": {},
   "outputs": [
    {
     "data": {
      "text/latex": [
       "$\\displaystyle 3 x^{2} y + 1$"
      ],
      "text/plain": [
       "3*x**2*y + 1"
      ]
     },
     "execution_count": 23,
     "metadata": {},
     "output_type": "execute_result"
    }
   ],
   "source": [
    "fxy_x = diff(fxy, x)\n",
    "fxy_x"
   ]
  },
  {
   "cell_type": "code",
   "execution_count": 24,
   "metadata": {},
   "outputs": [
    {
     "data": {
      "text/latex": [
       "$\\displaystyle x^{3} + 2$"
      ],
      "text/plain": [
       "x**3 + 2"
      ]
     },
     "execution_count": 24,
     "metadata": {},
     "output_type": "execute_result"
    }
   ],
   "source": [
    "fxy_y = diff(fxy, y)\n",
    "fxy_y"
   ]
  },
  {
   "cell_type": "code",
   "execution_count": 26,
   "metadata": {},
   "outputs": [
    {
     "data": {
      "text/latex": [
       "$\\displaystyle \\left[\\begin{matrix}3 x^{2} y + 1 & x^{3} + 2\\end{matrix}\\right]$"
      ],
      "text/plain": [
       "Matrix([[3*x**2*y + 1, x**3 + 2]])"
      ]
     },
     "execution_count": 26,
     "metadata": {},
     "output_type": "execute_result"
    }
   ],
   "source": [
    "Jacobian = Matrix([[fxy_x, fxy_y]])\n",
    "Jacobian"
   ]
  },
  {
   "cell_type": "code",
   "execution_count": 27,
   "metadata": {},
   "outputs": [
    {
     "data": {
      "text/latex": [
       "$\\displaystyle 6 x y$"
      ],
      "text/plain": [
       "6*x*y"
      ]
     },
     "execution_count": 27,
     "metadata": {},
     "output_type": "execute_result"
    }
   ],
   "source": [
    "jx_x = diff(fxy_x, x)\n",
    "jx_x"
   ]
  },
  {
   "cell_type": "code",
   "execution_count": 29,
   "metadata": {},
   "outputs": [
    {
     "data": {
      "text/latex": [
       "$\\displaystyle 3 x^{2}$"
      ],
      "text/plain": [
       "3*x**2"
      ]
     },
     "execution_count": 29,
     "metadata": {},
     "output_type": "execute_result"
    }
   ],
   "source": [
    "jx_y = diff(fxy_x, y)\n",
    "jx_y"
   ]
  },
  {
   "cell_type": "code",
   "execution_count": 30,
   "metadata": {},
   "outputs": [
    {
     "data": {
      "text/latex": [
       "$\\displaystyle 3 x^{2}$"
      ],
      "text/plain": [
       "3*x**2"
      ]
     },
     "execution_count": 30,
     "metadata": {},
     "output_type": "execute_result"
    }
   ],
   "source": [
    "jy_x = diff(fxy_y, x)\n",
    "jy_x"
   ]
  },
  {
   "cell_type": "code",
   "execution_count": 31,
   "metadata": {},
   "outputs": [
    {
     "data": {
      "text/latex": [
       "$\\displaystyle 0$"
      ],
      "text/plain": [
       "0"
      ]
     },
     "execution_count": 31,
     "metadata": {},
     "output_type": "execute_result"
    }
   ],
   "source": [
    "jy_y = diff(fxy_y, y)\n",
    "jy_y"
   ]
  },
  {
   "cell_type": "code",
   "execution_count": 32,
   "metadata": {},
   "outputs": [
    {
     "data": {
      "text/latex": [
       "$\\displaystyle \\left[\\begin{matrix}6 x y & 3 x^{2}\\\\3 x^{2} & 0\\end{matrix}\\right]$"
      ],
      "text/plain": [
       "Matrix([\n",
       "[ 6*x*y, 3*x**2],\n",
       "[3*x**2,      0]])"
      ]
     },
     "execution_count": 32,
     "metadata": {},
     "output_type": "execute_result"
    }
   ],
   "source": [
    "Hessians = Matrix([[jx_x, jx_y],\n",
    "                   [jy_x, jy_y]])\n",
    "Hessians"
   ]
  },
  {
   "cell_type": "markdown",
   "metadata": {},
   "source": [
    "**Question 2**"
   ]
  },
  {
   "cell_type": "code",
   "execution_count": 33,
   "metadata": {},
   "outputs": [
    {
     "data": {
      "text/latex": [
       "$\\displaystyle e^{x} \\cos{\\left(y \\right)}$"
      ],
      "text/plain": [
       "e**x*cos(y)"
      ]
     },
     "execution_count": 33,
     "metadata": {},
     "output_type": "execute_result"
    }
   ],
   "source": [
    "fxy = e**x*cos(y)\n",
    "fxy"
   ]
  },
  {
   "cell_type": "code",
   "execution_count": 34,
   "metadata": {},
   "outputs": [
    {
     "data": {
      "text/latex": [
       "$\\displaystyle e^{x} \\log{\\left(e \\right)} \\cos{\\left(y \\right)}$"
      ],
      "text/plain": [
       "e**x*log(e)*cos(y)"
      ]
     },
     "execution_count": 34,
     "metadata": {},
     "output_type": "execute_result"
    }
   ],
   "source": [
    "fxy_x = diff(fxy, x)\n",
    "fxy_x"
   ]
  },
  {
   "cell_type": "code",
   "execution_count": 35,
   "metadata": {},
   "outputs": [
    {
     "data": {
      "text/latex": [
       "$\\displaystyle - e^{x} \\sin{\\left(y \\right)}$"
      ],
      "text/plain": [
       "-e**x*sin(y)"
      ]
     },
     "execution_count": 35,
     "metadata": {},
     "output_type": "execute_result"
    }
   ],
   "source": [
    "fxy_y = diff(fxy, y)\n",
    "fxy_y"
   ]
  },
  {
   "cell_type": "code",
   "execution_count": 36,
   "metadata": {},
   "outputs": [
    {
     "data": {
      "text/latex": [
       "$\\displaystyle \\left[\\begin{matrix}e^{x} \\log{\\left(e \\right)} \\cos{\\left(y \\right)} & - e^{x} \\sin{\\left(y \\right)}\\end{matrix}\\right]$"
      ],
      "text/plain": [
       "Matrix([[e**x*log(e)*cos(y), -e**x*sin(y)]])"
      ]
     },
     "execution_count": 36,
     "metadata": {},
     "output_type": "execute_result"
    }
   ],
   "source": [
    "Jacobians = Matrix([[fxy_x, fxy_y]])\n",
    "Jacobians"
   ]
  },
  {
   "cell_type": "code",
   "execution_count": 37,
   "metadata": {},
   "outputs": [
    {
     "data": {
      "text/latex": [
       "$\\displaystyle e^{x} \\log{\\left(e \\right)}^{2} \\cos{\\left(y \\right)}$"
      ],
      "text/plain": [
       "e**x*log(e)**2*cos(y)"
      ]
     },
     "execution_count": 37,
     "metadata": {},
     "output_type": "execute_result"
    }
   ],
   "source": [
    "jx_x = diff(fxy_x, x)\n",
    "jx_x"
   ]
  },
  {
   "cell_type": "code",
   "execution_count": 39,
   "metadata": {},
   "outputs": [
    {
     "data": {
      "text/latex": [
       "$\\displaystyle - e^{x} \\log{\\left(e \\right)} \\sin{\\left(y \\right)}$"
      ],
      "text/plain": [
       "-e**x*log(e)*sin(y)"
      ]
     },
     "execution_count": 39,
     "metadata": {},
     "output_type": "execute_result"
    }
   ],
   "source": [
    "jx_y = diff(fxy_x, y)\n",
    "jx_y"
   ]
  },
  {
   "cell_type": "code",
   "execution_count": 40,
   "metadata": {},
   "outputs": [
    {
     "data": {
      "text/latex": [
       "$\\displaystyle - e^{x} \\log{\\left(e \\right)} \\sin{\\left(y \\right)}$"
      ],
      "text/plain": [
       "-e**x*log(e)*sin(y)"
      ]
     },
     "execution_count": 40,
     "metadata": {},
     "output_type": "execute_result"
    }
   ],
   "source": [
    "jy_x = diff(fxy_y, x)\n",
    "jy_x"
   ]
  },
  {
   "cell_type": "code",
   "execution_count": 41,
   "metadata": {},
   "outputs": [
    {
     "data": {
      "text/latex": [
       "$\\displaystyle - e^{x} \\cos{\\left(y \\right)}$"
      ],
      "text/plain": [
       "-e**x*cos(y)"
      ]
     },
     "execution_count": 41,
     "metadata": {},
     "output_type": "execute_result"
    }
   ],
   "source": [
    "jy_y = diff(fxy_y, y)\n",
    "jy_y"
   ]
  },
  {
   "cell_type": "code",
   "execution_count": 42,
   "metadata": {},
   "outputs": [
    {
     "data": {
      "text/latex": [
       "$\\displaystyle \\left[\\begin{matrix}e^{x} \\log{\\left(e \\right)}^{2} \\cos{\\left(y \\right)} & - e^{x} \\log{\\left(e \\right)} \\sin{\\left(y \\right)}\\\\- e^{x} \\log{\\left(e \\right)} \\sin{\\left(y \\right)} & - e^{x} \\cos{\\left(y \\right)}\\end{matrix}\\right]$"
      ],
      "text/plain": [
       "Matrix([\n",
       "[e**x*log(e)**2*cos(y), -e**x*log(e)*sin(y)],\n",
       "[  -e**x*log(e)*sin(y),        -e**x*cos(y)]])"
      ]
     },
     "execution_count": 42,
     "metadata": {},
     "output_type": "execute_result"
    }
   ],
   "source": [
    "Hessians = Matrix([[jx_x, jx_y],\n",
    "                   [jy_x, jy_y]])\n",
    "Hessians"
   ]
  },
  {
   "cell_type": "markdown",
   "metadata": {},
   "source": [
    "**Question 3**"
   ]
  },
  {
   "cell_type": "code",
   "execution_count": 4,
   "metadata": {},
   "outputs": [
    {
     "data": {
      "text/latex": [
       "$\\displaystyle \\frac{x^{2}}{2} + x y + \\frac{y^{2}}{2}$"
      ],
      "text/plain": [
       "x**2/2 + x*y + y**2/2"
      ]
     },
     "execution_count": 4,
     "metadata": {},
     "output_type": "execute_result"
    }
   ],
   "source": [
    "fxy = (x**2)/2 + x*y + (y**2)/2\n",
    "fxy"
   ]
  },
  {
   "cell_type": "code",
   "execution_count": 5,
   "metadata": {},
   "outputs": [
    {
     "data": {
      "text/latex": [
       "$\\displaystyle x + y$"
      ],
      "text/plain": [
       "x + y"
      ]
     },
     "execution_count": 5,
     "metadata": {},
     "output_type": "execute_result"
    }
   ],
   "source": [
    "fxy_x = diff(fxy, x)\n",
    "fxy_x"
   ]
  },
  {
   "cell_type": "code",
   "execution_count": 6,
   "metadata": {},
   "outputs": [
    {
     "data": {
      "text/latex": [
       "$\\displaystyle x + y$"
      ],
      "text/plain": [
       "x + y"
      ]
     },
     "execution_count": 6,
     "metadata": {},
     "output_type": "execute_result"
    }
   ],
   "source": [
    "fxy_y = diff(fxy, y)\n",
    "fxy_y"
   ]
  },
  {
   "cell_type": "code",
   "execution_count": 7,
   "metadata": {},
   "outputs": [
    {
     "data": {
      "text/latex": [
       "$\\displaystyle \\left[\\begin{matrix}x + y & x + y\\end{matrix}\\right]$"
      ],
      "text/plain": [
       "Matrix([[x + y, x + y]])"
      ]
     },
     "execution_count": 7,
     "metadata": {},
     "output_type": "execute_result"
    }
   ],
   "source": [
    "Jacobians = Matrix([[fxy_x, fxy_y]])\n",
    "Jacobians"
   ]
  },
  {
   "cell_type": "code",
   "execution_count": 8,
   "metadata": {},
   "outputs": [
    {
     "data": {
      "text/latex": [
       "$\\displaystyle 1$"
      ],
      "text/plain": [
       "1"
      ]
     },
     "execution_count": 8,
     "metadata": {},
     "output_type": "execute_result"
    }
   ],
   "source": [
    "jx_x = diff(fxy_x, x)\n",
    "jx_x"
   ]
  },
  {
   "cell_type": "code",
   "execution_count": 9,
   "metadata": {},
   "outputs": [
    {
     "data": {
      "text/latex": [
       "$\\displaystyle 1$"
      ],
      "text/plain": [
       "1"
      ]
     },
     "execution_count": 9,
     "metadata": {},
     "output_type": "execute_result"
    }
   ],
   "source": [
    "jx_y = diff(fxy_x, y)\n",
    "jx_y"
   ]
  },
  {
   "cell_type": "code",
   "execution_count": 10,
   "metadata": {},
   "outputs": [
    {
     "data": {
      "text/latex": [
       "$\\displaystyle 1$"
      ],
      "text/plain": [
       "1"
      ]
     },
     "execution_count": 10,
     "metadata": {},
     "output_type": "execute_result"
    }
   ],
   "source": [
    "jy_x = diff(fxy_y, x)\n",
    "jy_x"
   ]
  },
  {
   "cell_type": "code",
   "execution_count": 11,
   "metadata": {},
   "outputs": [
    {
     "data": {
      "text/latex": [
       "$\\displaystyle 1$"
      ],
      "text/plain": [
       "1"
      ]
     },
     "execution_count": 11,
     "metadata": {},
     "output_type": "execute_result"
    }
   ],
   "source": [
    "jy_y = diff(fxy_y, y)\n",
    "jy_y"
   ]
  },
  {
   "cell_type": "code",
   "execution_count": 12,
   "metadata": {},
   "outputs": [
    {
     "data": {
      "text/latex": [
       "$\\displaystyle \\left[\\begin{matrix}1 & 1\\\\1 & 1\\end{matrix}\\right]$"
      ],
      "text/plain": [
       "Matrix([\n",
       "[1, 1],\n",
       "[1, 1]])"
      ]
     },
     "execution_count": 12,
     "metadata": {},
     "output_type": "execute_result"
    }
   ],
   "source": [
    "Hessians = Matrix([[jx_x, jx_y],\n",
    "                   [jy_x, jy_y]])\n",
    "Hessians"
   ]
  },
  {
   "cell_type": "markdown",
   "metadata": {},
   "source": [
    "**Question 4**"
   ]
  },
  {
   "cell_type": "code",
   "execution_count": 13,
   "metadata": {},
   "outputs": [
    {
     "data": {
      "text/latex": [
       "$\\displaystyle e^{- y} x^{2} \\cos{\\left(z \\right)}$"
      ],
      "text/plain": [
       "e**(-y)*x**2*cos(z)"
      ]
     },
     "execution_count": 13,
     "metadata": {},
     "output_type": "execute_result"
    }
   ],
   "source": [
    "fxyz = x**2*e**(-y)*cos(z)\n",
    "fxyz"
   ]
  },
  {
   "cell_type": "code",
   "execution_count": 14,
   "metadata": {},
   "outputs": [
    {
     "data": {
      "text/latex": [
       "$\\displaystyle 2 e^{- y} x \\cos{\\left(z \\right)}$"
      ],
      "text/plain": [
       "2*e**(-y)*x*cos(z)"
      ]
     },
     "execution_count": 14,
     "metadata": {},
     "output_type": "execute_result"
    }
   ],
   "source": [
    "fxyz_x = diff(fxyz, x)\n",
    "fxyz_x"
   ]
  },
  {
   "cell_type": "code",
   "execution_count": 15,
   "metadata": {},
   "outputs": [
    {
     "data": {
      "text/latex": [
       "$\\displaystyle - e^{- y} x^{2} \\log{\\left(e \\right)} \\cos{\\left(z \\right)}$"
      ],
      "text/plain": [
       "-e**(-y)*x**2*log(e)*cos(z)"
      ]
     },
     "execution_count": 15,
     "metadata": {},
     "output_type": "execute_result"
    }
   ],
   "source": [
    "fxyz_y = diff(fxyz, y)\n",
    "fxyz_y"
   ]
  },
  {
   "cell_type": "code",
   "execution_count": 16,
   "metadata": {},
   "outputs": [
    {
     "data": {
      "text/latex": [
       "$\\displaystyle - e^{- y} x^{2} \\sin{\\left(z \\right)}$"
      ],
      "text/plain": [
       "-e**(-y)*x**2*sin(z)"
      ]
     },
     "execution_count": 16,
     "metadata": {},
     "output_type": "execute_result"
    }
   ],
   "source": [
    "fxyz_z = diff(fxyz, z)\n",
    "fxyz_z"
   ]
  },
  {
   "cell_type": "code",
   "execution_count": 17,
   "metadata": {},
   "outputs": [
    {
     "data": {
      "text/latex": [
       "$\\displaystyle \\left[\\begin{matrix}2 e^{- y} x \\cos{\\left(z \\right)} & - e^{- y} x^{2} \\log{\\left(e \\right)} \\cos{\\left(z \\right)} & - e^{- y} x^{2} \\sin{\\left(z \\right)}\\end{matrix}\\right]$"
      ],
      "text/plain": [
       "Matrix([[2*e**(-y)*x*cos(z), -e**(-y)*x**2*log(e)*cos(z), -e**(-y)*x**2*sin(z)]])"
      ]
     },
     "execution_count": 17,
     "metadata": {},
     "output_type": "execute_result"
    }
   ],
   "source": [
    "Jacobians = Matrix([[fxyz_x, fxyz_y, fxyz_z]])\n",
    "Jacobians"
   ]
  },
  {
   "cell_type": "code",
   "execution_count": 18,
   "metadata": {},
   "outputs": [
    {
     "data": {
      "text/latex": [
       "$\\displaystyle 2 e^{- y} \\cos{\\left(z \\right)}$"
      ],
      "text/plain": [
       "2*e**(-y)*cos(z)"
      ]
     },
     "execution_count": 18,
     "metadata": {},
     "output_type": "execute_result"
    }
   ],
   "source": [
    "jx_x = diff(fxyz_x, x)\n",
    "jx_x"
   ]
  },
  {
   "cell_type": "code",
   "execution_count": 20,
   "metadata": {},
   "outputs": [
    {
     "data": {
      "text/latex": [
       "$\\displaystyle - 2 e^{- y} x \\log{\\left(e \\right)} \\cos{\\left(z \\right)}$"
      ],
      "text/plain": [
       "-2*e**(-y)*x*log(e)*cos(z)"
      ]
     },
     "execution_count": 20,
     "metadata": {},
     "output_type": "execute_result"
    }
   ],
   "source": [
    "jx_y = diff(fxyz_x, y)\n",
    "jx_y"
   ]
  },
  {
   "cell_type": "code",
   "execution_count": 21,
   "metadata": {},
   "outputs": [
    {
     "data": {
      "text/latex": [
       "$\\displaystyle - 2 e^{- y} x \\sin{\\left(z \\right)}$"
      ],
      "text/plain": [
       "-2*e**(-y)*x*sin(z)"
      ]
     },
     "execution_count": 21,
     "metadata": {},
     "output_type": "execute_result"
    }
   ],
   "source": [
    "jx_z = diff(fxyz_x, z)\n",
    "jx_z"
   ]
  },
  {
   "cell_type": "code",
   "execution_count": 22,
   "metadata": {},
   "outputs": [
    {
     "data": {
      "text/latex": [
       "$\\displaystyle - 2 e^{- y} x \\log{\\left(e \\right)} \\cos{\\left(z \\right)}$"
      ],
      "text/plain": [
       "-2*e**(-y)*x*log(e)*cos(z)"
      ]
     },
     "execution_count": 22,
     "metadata": {},
     "output_type": "execute_result"
    }
   ],
   "source": [
    "jy_x = diff(fxyz_y, x)\n",
    "jy_x"
   ]
  },
  {
   "cell_type": "code",
   "execution_count": 23,
   "metadata": {},
   "outputs": [
    {
     "data": {
      "text/latex": [
       "$\\displaystyle e^{- y} x^{2} \\log{\\left(e \\right)}^{2} \\cos{\\left(z \\right)}$"
      ],
      "text/plain": [
       "e**(-y)*x**2*log(e)**2*cos(z)"
      ]
     },
     "execution_count": 23,
     "metadata": {},
     "output_type": "execute_result"
    }
   ],
   "source": [
    "jy_y = diff(fxyz_y, y)\n",
    "jy_y"
   ]
  },
  {
   "cell_type": "code",
   "execution_count": 24,
   "metadata": {},
   "outputs": [
    {
     "data": {
      "text/latex": [
       "$\\displaystyle e^{- y} x^{2} \\log{\\left(e \\right)} \\sin{\\left(z \\right)}$"
      ],
      "text/plain": [
       "e**(-y)*x**2*log(e)*sin(z)"
      ]
     },
     "execution_count": 24,
     "metadata": {},
     "output_type": "execute_result"
    }
   ],
   "source": [
    "jy_z = diff(fxyz_y, z)\n",
    "jy_z"
   ]
  },
  {
   "cell_type": "code",
   "execution_count": 25,
   "metadata": {},
   "outputs": [
    {
     "data": {
      "text/latex": [
       "$\\displaystyle - 2 e^{- y} x \\sin{\\left(z \\right)}$"
      ],
      "text/plain": [
       "-2*e**(-y)*x*sin(z)"
      ]
     },
     "execution_count": 25,
     "metadata": {},
     "output_type": "execute_result"
    }
   ],
   "source": [
    "jz_x = diff(fxyz_z, x)\n",
    "jz_x"
   ]
  },
  {
   "cell_type": "code",
   "execution_count": 26,
   "metadata": {},
   "outputs": [
    {
     "data": {
      "text/latex": [
       "$\\displaystyle e^{- y} x^{2} \\log{\\left(e \\right)} \\sin{\\left(z \\right)}$"
      ],
      "text/plain": [
       "e**(-y)*x**2*log(e)*sin(z)"
      ]
     },
     "execution_count": 26,
     "metadata": {},
     "output_type": "execute_result"
    }
   ],
   "source": [
    "jz_y = diff(fxyz_z, y)\n",
    "jz_y"
   ]
  },
  {
   "cell_type": "code",
   "execution_count": 27,
   "metadata": {},
   "outputs": [
    {
     "data": {
      "text/latex": [
       "$\\displaystyle - e^{- y} x^{2} \\cos{\\left(z \\right)}$"
      ],
      "text/plain": [
       "-e**(-y)*x**2*cos(z)"
      ]
     },
     "execution_count": 27,
     "metadata": {},
     "output_type": "execute_result"
    }
   ],
   "source": [
    "jz_z = diff(fxyz_z, z)\n",
    "jz_z"
   ]
  },
  {
   "cell_type": "code",
   "execution_count": 28,
   "metadata": {},
   "outputs": [
    {
     "data": {
      "text/latex": [
       "$\\displaystyle \\left[\\begin{matrix}2 e^{- y} \\cos{\\left(z \\right)} & - 2 e^{- y} x \\log{\\left(e \\right)} \\cos{\\left(z \\right)} & - 2 e^{- y} x \\sin{\\left(z \\right)}\\\\- 2 e^{- y} x \\log{\\left(e \\right)} \\cos{\\left(z \\right)} & e^{- y} x^{2} \\log{\\left(e \\right)}^{2} \\cos{\\left(z \\right)} & e^{- y} x^{2} \\log{\\left(e \\right)} \\sin{\\left(z \\right)}\\\\- 2 e^{- y} x \\sin{\\left(z \\right)} & e^{- y} x^{2} \\log{\\left(e \\right)} \\sin{\\left(z \\right)} & - e^{- y} x^{2} \\cos{\\left(z \\right)}\\end{matrix}\\right]$"
      ],
      "text/plain": [
       "Matrix([\n",
       "[          2*e**(-y)*cos(z),    -2*e**(-y)*x*log(e)*cos(z),        -2*e**(-y)*x*sin(z)],\n",
       "[-2*e**(-y)*x*log(e)*cos(z), e**(-y)*x**2*log(e)**2*cos(z), e**(-y)*x**2*log(e)*sin(z)],\n",
       "[       -2*e**(-y)*x*sin(z),    e**(-y)*x**2*log(e)*sin(z),       -e**(-y)*x**2*cos(z)]])"
      ]
     },
     "execution_count": 28,
     "metadata": {},
     "output_type": "execute_result"
    }
   ],
   "source": [
    "Hessians = Matrix([[jx_x, jx_y, jx_z],\n",
    "                   [jy_x, jy_y, jy_z],\n",
    "                   [jz_x, jz_y, jz_z]])\n",
    "Hessians"
   ]
  },
  {
   "cell_type": "markdown",
   "metadata": {},
   "source": [
    "**Question 5**"
   ]
  },
  {
   "cell_type": "code",
   "execution_count": 29,
   "metadata": {},
   "outputs": [
    {
     "data": {
      "text/latex": [
       "$\\displaystyle e^{y} x + y^{2} \\cos{\\left(z \\right)}$"
      ],
      "text/plain": [
       "e**y*x + y**2*cos(z)"
      ]
     },
     "execution_count": 29,
     "metadata": {},
     "output_type": "execute_result"
    }
   ],
   "source": [
    "fxyz = x*e**y + y**2*cos(z)\n",
    "fxyz"
   ]
  },
  {
   "cell_type": "code",
   "execution_count": 30,
   "metadata": {},
   "outputs": [
    {
     "data": {
      "text/latex": [
       "$\\displaystyle e^{y}$"
      ],
      "text/plain": [
       "e**y"
      ]
     },
     "execution_count": 30,
     "metadata": {},
     "output_type": "execute_result"
    }
   ],
   "source": [
    "fxyz_x = diff(fxyz, x)\n",
    "fxyz_x"
   ]
  },
  {
   "cell_type": "code",
   "execution_count": 31,
   "metadata": {},
   "outputs": [
    {
     "data": {
      "text/latex": [
       "$\\displaystyle e^{y} x \\log{\\left(e \\right)} + 2 y \\cos{\\left(z \\right)}$"
      ],
      "text/plain": [
       "e**y*x*log(e) + 2*y*cos(z)"
      ]
     },
     "execution_count": 31,
     "metadata": {},
     "output_type": "execute_result"
    }
   ],
   "source": [
    "fxyz_y = diff(fxyz, y)\n",
    "fxyz_y"
   ]
  },
  {
   "cell_type": "code",
   "execution_count": 32,
   "metadata": {},
   "outputs": [
    {
     "data": {
      "text/latex": [
       "$\\displaystyle - y^{2} \\sin{\\left(z \\right)}$"
      ],
      "text/plain": [
       "-y**2*sin(z)"
      ]
     },
     "execution_count": 32,
     "metadata": {},
     "output_type": "execute_result"
    }
   ],
   "source": [
    "fxyz_z = diff(fxyz, z)\n",
    "fxyz_z"
   ]
  },
  {
   "cell_type": "code",
   "execution_count": 33,
   "metadata": {},
   "outputs": [
    {
     "data": {
      "text/latex": [
       "$\\displaystyle \\left[\\begin{matrix}e^{y} & e^{y} x \\log{\\left(e \\right)} + 2 y \\cos{\\left(z \\right)} & - y^{2} \\sin{\\left(z \\right)}\\end{matrix}\\right]$"
      ],
      "text/plain": [
       "Matrix([[e**y, e**y*x*log(e) + 2*y*cos(z), -y**2*sin(z)]])"
      ]
     },
     "execution_count": 33,
     "metadata": {},
     "output_type": "execute_result"
    }
   ],
   "source": [
    "Jacobians = Matrix([[fxyz_x, fxyz_y, fxyz_z]])\n",
    "Jacobians"
   ]
  },
  {
   "cell_type": "code",
   "execution_count": 34,
   "metadata": {},
   "outputs": [
    {
     "data": {
      "text/latex": [
       "$\\displaystyle 0$"
      ],
      "text/plain": [
       "0"
      ]
     },
     "execution_count": 34,
     "metadata": {},
     "output_type": "execute_result"
    }
   ],
   "source": [
    "jx_x = diff(fxyz_x, x)\n",
    "jx_x"
   ]
  },
  {
   "cell_type": "code",
   "execution_count": 35,
   "metadata": {},
   "outputs": [
    {
     "data": {
      "text/latex": [
       "$\\displaystyle e^{y} \\log{\\left(e \\right)}$"
      ],
      "text/plain": [
       "e**y*log(e)"
      ]
     },
     "execution_count": 35,
     "metadata": {},
     "output_type": "execute_result"
    }
   ],
   "source": [
    "jx_y = diff(fxyz_x, y)\n",
    "jx_y"
   ]
  },
  {
   "cell_type": "code",
   "execution_count": 36,
   "metadata": {},
   "outputs": [
    {
     "data": {
      "text/latex": [
       "$\\displaystyle 0$"
      ],
      "text/plain": [
       "0"
      ]
     },
     "execution_count": 36,
     "metadata": {},
     "output_type": "execute_result"
    }
   ],
   "source": [
    "jx_z = diff(fxyz_x, z)\n",
    "jx_z"
   ]
  },
  {
   "cell_type": "code",
   "execution_count": 37,
   "metadata": {},
   "outputs": [
    {
     "data": {
      "text/latex": [
       "$\\displaystyle e^{y} \\log{\\left(e \\right)}$"
      ],
      "text/plain": [
       "e**y*log(e)"
      ]
     },
     "execution_count": 37,
     "metadata": {},
     "output_type": "execute_result"
    }
   ],
   "source": [
    "jy_x = diff(fxyz_y, x)\n",
    "jy_x"
   ]
  },
  {
   "cell_type": "code",
   "execution_count": 38,
   "metadata": {},
   "outputs": [
    {
     "data": {
      "text/latex": [
       "$\\displaystyle e^{y} x \\log{\\left(e \\right)}^{2} + 2 \\cos{\\left(z \\right)}$"
      ],
      "text/plain": [
       "e**y*x*log(e)**2 + 2*cos(z)"
      ]
     },
     "execution_count": 38,
     "metadata": {},
     "output_type": "execute_result"
    }
   ],
   "source": [
    "jy_y = diff(fxyz_y, y)\n",
    "jy_y"
   ]
  },
  {
   "cell_type": "code",
   "execution_count": 39,
   "metadata": {},
   "outputs": [
    {
     "data": {
      "text/latex": [
       "$\\displaystyle - 2 y \\sin{\\left(z \\right)}$"
      ],
      "text/plain": [
       "-2*y*sin(z)"
      ]
     },
     "execution_count": 39,
     "metadata": {},
     "output_type": "execute_result"
    }
   ],
   "source": [
    "jy_z = diff(fxyz_y, z)\n",
    "jy_z"
   ]
  },
  {
   "cell_type": "code",
   "execution_count": 40,
   "metadata": {},
   "outputs": [
    {
     "data": {
      "text/latex": [
       "$\\displaystyle 0$"
      ],
      "text/plain": [
       "0"
      ]
     },
     "execution_count": 40,
     "metadata": {},
     "output_type": "execute_result"
    }
   ],
   "source": [
    "jz_x = diff(fxyz_z, x)\n",
    "jz_x"
   ]
  },
  {
   "cell_type": "code",
   "execution_count": 41,
   "metadata": {},
   "outputs": [
    {
     "data": {
      "text/latex": [
       "$\\displaystyle - 2 y \\sin{\\left(z \\right)}$"
      ],
      "text/plain": [
       "-2*y*sin(z)"
      ]
     },
     "execution_count": 41,
     "metadata": {},
     "output_type": "execute_result"
    }
   ],
   "source": [
    "jz_y = diff(fxyz_z, y)\n",
    "jz_y"
   ]
  },
  {
   "cell_type": "code",
   "execution_count": 42,
   "metadata": {},
   "outputs": [
    {
     "data": {
      "text/latex": [
       "$\\displaystyle - y^{2} \\cos{\\left(z \\right)}$"
      ],
      "text/plain": [
       "-y**2*cos(z)"
      ]
     },
     "execution_count": 42,
     "metadata": {},
     "output_type": "execute_result"
    }
   ],
   "source": [
    "jz_z = diff(fxyz_z, z)\n",
    "jz_z"
   ]
  },
  {
   "cell_type": "code",
   "execution_count": 43,
   "metadata": {},
   "outputs": [
    {
     "data": {
      "text/latex": [
       "$\\displaystyle \\left[\\begin{matrix}0 & e^{y} \\log{\\left(e \\right)} & 0\\\\e^{y} \\log{\\left(e \\right)} & e^{y} x \\log{\\left(e \\right)}^{2} + 2 \\cos{\\left(z \\right)} & - 2 y \\sin{\\left(z \\right)}\\\\0 & - 2 y \\sin{\\left(z \\right)} & - y^{2} \\cos{\\left(z \\right)}\\end{matrix}\\right]$"
      ],
      "text/plain": [
       "Matrix([\n",
       "[          0,                 e**y*log(e),            0],\n",
       "[e**y*log(e), e**y*x*log(e)**2 + 2*cos(z),  -2*y*sin(z)],\n",
       "[          0,                 -2*y*sin(z), -y**2*cos(z)]])"
      ]
     },
     "execution_count": 43,
     "metadata": {},
     "output_type": "execute_result"
    }
   ],
   "source": [
    "Hessians = Matrix([[jx_x, jx_y, jx_z],\n",
    "                   [jy_x, jy_y, jy_z],\n",
    "                   [jz_x, jz_y, jz_z]])\n",
    "Hessians"
   ]
  },
  {
   "cell_type": "markdown",
   "metadata": {},
   "source": [
    "# Jacobians and Hessians"
   ]
  },
  {
   "cell_type": "code",
   "execution_count": 44,
   "metadata": {},
   "outputs": [
    {
     "data": {
      "text/latex": [
       "$\\displaystyle e^{z} \\sin{\\left(y \\right)} + x^{2} \\cos{\\left(y \\right)}$"
      ],
      "text/plain": [
       "e**z*sin(y) + x**2*cos(y)"
      ]
     },
     "execution_count": 44,
     "metadata": {},
     "output_type": "execute_result"
    }
   ],
   "source": [
    "fxyz = x**2*cos(y) + e**z*sin(y)\n",
    "fxyz"
   ]
  },
  {
   "cell_type": "code",
   "execution_count": 45,
   "metadata": {},
   "outputs": [
    {
     "data": {
      "text/latex": [
       "$\\displaystyle 2 x \\cos{\\left(y \\right)}$"
      ],
      "text/plain": [
       "2*x*cos(y)"
      ]
     },
     "execution_count": 45,
     "metadata": {},
     "output_type": "execute_result"
    }
   ],
   "source": [
    "fxyz_x = diff(fxyz, x)\n",
    "fxyz_x"
   ]
  },
  {
   "cell_type": "code",
   "execution_count": 50,
   "metadata": {},
   "outputs": [
    {
     "data": {
      "text/latex": [
       "$\\displaystyle - 2.0 \\pi$"
      ],
      "text/plain": [
       "-2.0*pi"
      ]
     },
     "execution_count": 50,
     "metadata": {},
     "output_type": "execute_result"
    }
   ],
   "source": [
    "fx = fxyz_x.subs(x, pi).subs(y, math.pi)\n",
    "fx"
   ]
  },
  {
   "cell_type": "code",
   "execution_count": 51,
   "metadata": {},
   "outputs": [
    {
     "data": {
      "text/latex": [
       "$\\displaystyle e^{z} \\cos{\\left(y \\right)} - x^{2} \\sin{\\left(y \\right)}$"
      ],
      "text/plain": [
       "e**z*cos(y) - x**2*sin(y)"
      ]
     },
     "execution_count": 51,
     "metadata": {},
     "output_type": "execute_result"
    }
   ],
   "source": [
    "fxyz_y = diff(fxyz, y)\n",
    "fxyz_y"
   ]
  },
  {
   "cell_type": "code",
   "execution_count": 53,
   "metadata": {},
   "outputs": [
    {
     "data": {
      "text/latex": [
       "$\\displaystyle - 1.0 e - 1.22464679914735 \\cdot 10^{-16} \\pi^{2}$"
      ],
      "text/plain": [
       "-1.0*e - 1.22464679914735e-16*pi**2"
      ]
     },
     "execution_count": 53,
     "metadata": {},
     "output_type": "execute_result"
    }
   ],
   "source": [
    "fy = fxyz_y.subs(x, pi).subs(y, math.pi).subs(z, 1)\n",
    "fy"
   ]
  },
  {
   "cell_type": "code",
   "execution_count": 54,
   "metadata": {},
   "outputs": [
    {
     "data": {
      "text/latex": [
       "$\\displaystyle e^{z} \\log{\\left(e \\right)} \\sin{\\left(y \\right)}$"
      ],
      "text/plain": [
       "e**z*log(e)*sin(y)"
      ]
     },
     "execution_count": 54,
     "metadata": {},
     "output_type": "execute_result"
    }
   ],
   "source": [
    "fxyz_z = diff(fxyz, z)\n",
    "fxyz_z"
   ]
  },
  {
   "cell_type": "code",
   "execution_count": 55,
   "metadata": {},
   "outputs": [
    {
     "data": {
      "text/latex": [
       "$\\displaystyle 1.22464679914735 \\cdot 10^{-16} e \\log{\\left(e \\right)}$"
      ],
      "text/plain": [
       "1.22464679914735e-16*e*log(e)"
      ]
     },
     "execution_count": 55,
     "metadata": {},
     "output_type": "execute_result"
    }
   ],
   "source": [
    "fz = fxyz_z.subs(y, math.pi).subs(z, 1)\n",
    "fz"
   ]
  },
  {
   "cell_type": "code",
   "execution_count": 56,
   "metadata": {},
   "outputs": [
    {
     "data": {
      "text/plain": [
       "(-2.0*pi, -1.0*e - 1.22464679914735e-16*pi**2, 1.22464679914735e-16*e*log(e))"
      ]
     },
     "execution_count": 56,
     "metadata": {},
     "output_type": "execute_result"
    }
   ],
   "source": [
    "Jacobians = (fx, fy, fz)\n",
    "Jacobians"
   ]
  },
  {
   "cell_type": "markdown",
   "metadata": {},
   "source": [
    "**Question 2**"
   ]
  },
  {
   "cell_type": "code",
   "execution_count": 4,
   "metadata": {},
   "outputs": [
    {
     "data": {
      "text/latex": [
       "$\\displaystyle x^{2} y - \\sin{\\left(y \\right)} \\cos{\\left(x \\right)}$"
      ],
      "text/plain": [
       "x**2*y - sin(y)*cos(x)"
      ]
     },
     "execution_count": 4,
     "metadata": {},
     "output_type": "execute_result"
    }
   ],
   "source": [
    "u_xy = x**2*y - cos(x)*sin(y)\n",
    "u_xy"
   ]
  },
  {
   "cell_type": "code",
   "execution_count": 11,
   "metadata": {},
   "outputs": [
    {
     "data": {
      "text/latex": [
       "$\\displaystyle e^{x + y}$"
      ],
      "text/plain": [
       "e**(x + y)"
      ]
     },
     "execution_count": 11,
     "metadata": {},
     "output_type": "execute_result"
    }
   ],
   "source": [
    "v_xy = e**(x + y)\n",
    "v_xy"
   ]
  },
  {
   "cell_type": "code",
   "execution_count": 6,
   "metadata": {},
   "outputs": [
    {
     "data": {
      "text/latex": [
       "$\\displaystyle 2 x y + \\sin{\\left(x \\right)} \\sin{\\left(y \\right)}$"
      ],
      "text/plain": [
       "2*x*y + sin(x)*sin(y)"
      ]
     },
     "execution_count": 6,
     "metadata": {},
     "output_type": "execute_result"
    }
   ],
   "source": [
    "ux = diff(u_xy, x)\n",
    "ux"
   ]
  },
  {
   "cell_type": "code",
   "execution_count": 7,
   "metadata": {},
   "outputs": [
    {
     "data": {
      "text/latex": [
       "$\\displaystyle 0$"
      ],
      "text/plain": [
       "0"
      ]
     },
     "execution_count": 7,
     "metadata": {},
     "output_type": "execute_result"
    }
   ],
   "source": [
    "fux_x = ux.subs(x, 0).subs(y, pi)\n",
    "fux_x"
   ]
  },
  {
   "cell_type": "code",
   "execution_count": 8,
   "metadata": {},
   "outputs": [
    {
     "data": {
      "text/latex": [
       "$\\displaystyle x^{2} - \\cos{\\left(x \\right)} \\cos{\\left(y \\right)}$"
      ],
      "text/plain": [
       "x**2 - cos(x)*cos(y)"
      ]
     },
     "execution_count": 8,
     "metadata": {},
     "output_type": "execute_result"
    }
   ],
   "source": [
    "uy = diff(u_xy, y)\n",
    "uy"
   ]
  },
  {
   "cell_type": "code",
   "execution_count": 9,
   "metadata": {},
   "outputs": [
    {
     "data": {
      "text/latex": [
       "$\\displaystyle 1.0$"
      ],
      "text/plain": [
       "1.00000000000000"
      ]
     },
     "execution_count": 9,
     "metadata": {},
     "output_type": "execute_result"
    }
   ],
   "source": [
    "fux_y = uy.subs(x, 0).subs(y, math.pi)\n",
    "fux_y"
   ]
  },
  {
   "cell_type": "code",
   "execution_count": 12,
   "metadata": {},
   "outputs": [
    {
     "data": {
      "text/latex": [
       "$\\displaystyle e^{x + y} \\log{\\left(e \\right)}$"
      ],
      "text/plain": [
       "e**(x + y)*log(e)"
      ]
     },
     "execution_count": 12,
     "metadata": {},
     "output_type": "execute_result"
    }
   ],
   "source": [
    "vx = diff(v_xy, x)\n",
    "vx"
   ]
  },
  {
   "cell_type": "code",
   "execution_count": 14,
   "metadata": {},
   "outputs": [
    {
     "data": {
      "text/latex": [
       "$\\displaystyle e^{3.14159265358979} \\log{\\left(e \\right)}$"
      ],
      "text/plain": [
       "e**3.14159265358979*log(e)"
      ]
     },
     "execution_count": 14,
     "metadata": {},
     "output_type": "execute_result"
    }
   ],
   "source": [
    "fvx_x = vx.subs(x, 0).subs(y, math.pi)\n",
    "fvx_x"
   ]
  },
  {
   "cell_type": "code",
   "execution_count": 15,
   "metadata": {},
   "outputs": [
    {
     "data": {
      "text/latex": [
       "$\\displaystyle e^{x + y} \\log{\\left(e \\right)}$"
      ],
      "text/plain": [
       "e**(x + y)*log(e)"
      ]
     },
     "execution_count": 15,
     "metadata": {},
     "output_type": "execute_result"
    }
   ],
   "source": [
    "vy = diff(v_xy, y)\n",
    "vy"
   ]
  },
  {
   "cell_type": "code",
   "execution_count": 16,
   "metadata": {},
   "outputs": [
    {
     "data": {
      "text/latex": [
       "$\\displaystyle e^{3.14159265358979} \\log{\\left(e \\right)}$"
      ],
      "text/plain": [
       "e**3.14159265358979*log(e)"
      ]
     },
     "execution_count": 16,
     "metadata": {},
     "output_type": "execute_result"
    }
   ],
   "source": [
    "fvx_y = vy.subs(x, 0).subs(y, math.pi)\n",
    "fvx_y"
   ]
  },
  {
   "cell_type": "code",
   "execution_count": 18,
   "metadata": {},
   "outputs": [
    {
     "data": {
      "text/latex": [
       "$\\displaystyle \\left[\\begin{matrix}0 & 1.0\\\\e^{3.14159265358979} \\log{\\left(e \\right)} & e^{3.14159265358979} \\log{\\left(e \\right)}\\end{matrix}\\right]$"
      ],
      "text/plain": [
       "Matrix([\n",
       "[                         0,                        1.0],\n",
       "[e**3.14159265358979*log(e), e**3.14159265358979*log(e)]])"
      ]
     },
     "execution_count": 18,
     "metadata": {},
     "output_type": "execute_result"
    }
   ],
   "source": [
    "Jacobians = Matrix([[fux_x, fux_y],\n",
    "                    [fvx_x, fvx_y]])\n",
    "Jacobians"
   ]
  },
  {
   "cell_type": "markdown",
   "metadata": {},
   "source": [
    "**Question 3**"
   ]
  },
  {
   "cell_type": "code",
   "execution_count": 19,
   "metadata": {},
   "outputs": [
    {
     "data": {
      "text/latex": [
       "$\\displaystyle x^{3} \\cos{\\left(y \\right)} - x \\sin{\\left(y \\right)}$"
      ],
      "text/plain": [
       "x**3*cos(y) - x*sin(y)"
      ]
     },
     "execution_count": 19,
     "metadata": {},
     "output_type": "execute_result"
    }
   ],
   "source": [
    "fxy = x**3 * cos(y) - x*sin(y)\n",
    "fxy"
   ]
  },
  {
   "cell_type": "code",
   "execution_count": 20,
   "metadata": {},
   "outputs": [
    {
     "data": {
      "text/latex": [
       "$\\displaystyle 3 x^{2} \\cos{\\left(y \\right)} - \\sin{\\left(y \\right)}$"
      ],
      "text/plain": [
       "3*x**2*cos(y) - sin(y)"
      ]
     },
     "execution_count": 20,
     "metadata": {},
     "output_type": "execute_result"
    }
   ],
   "source": [
    "fxy_x = diff(fxy, x)\n",
    "fxy_x"
   ]
  },
  {
   "cell_type": "code",
   "execution_count": 21,
   "metadata": {},
   "outputs": [
    {
     "data": {
      "text/latex": [
       "$\\displaystyle - x^{3} \\sin{\\left(y \\right)} - x \\cos{\\left(y \\right)}$"
      ],
      "text/plain": [
       "-x**3*sin(y) - x*cos(y)"
      ]
     },
     "execution_count": 21,
     "metadata": {},
     "output_type": "execute_result"
    }
   ],
   "source": [
    "fxy_y = diff(fxy, y)\n",
    "fxy_y"
   ]
  },
  {
   "cell_type": "code",
   "execution_count": 22,
   "metadata": {},
   "outputs": [
    {
     "data": {
      "text/latex": [
       "$\\displaystyle \\left[\\begin{matrix}3 x^{2} \\cos{\\left(y \\right)} - \\sin{\\left(y \\right)} & - x^{3} \\sin{\\left(y \\right)} - x \\cos{\\left(y \\right)}\\end{matrix}\\right]$"
      ],
      "text/plain": [
       "Matrix([[3*x**2*cos(y) - sin(y), -x**3*sin(y) - x*cos(y)]])"
      ]
     },
     "execution_count": 22,
     "metadata": {},
     "output_type": "execute_result"
    }
   ],
   "source": [
    "Jacobians = Matrix([[fxy_x, fxy_y]])\n",
    "Jacobians"
   ]
  },
  {
   "cell_type": "code",
   "execution_count": 25,
   "metadata": {},
   "outputs": [
    {
     "data": {
      "text/latex": [
       "$\\displaystyle 6 x \\cos{\\left(y \\right)}$"
      ],
      "text/plain": [
       "6*x*cos(y)"
      ]
     },
     "execution_count": 25,
     "metadata": {},
     "output_type": "execute_result"
    }
   ],
   "source": [
    "jx_x = diff(fxy_x, x)\n",
    "jx_x"
   ]
  },
  {
   "cell_type": "code",
   "execution_count": 26,
   "metadata": {},
   "outputs": [
    {
     "data": {
      "text/latex": [
       "$\\displaystyle - 3 x^{2} \\sin{\\left(y \\right)} - \\cos{\\left(y \\right)}$"
      ],
      "text/plain": [
       "-3*x**2*sin(y) - cos(y)"
      ]
     },
     "execution_count": 26,
     "metadata": {},
     "output_type": "execute_result"
    }
   ],
   "source": [
    "jx_y = diff(fxy_x, y)\n",
    "jx_y"
   ]
  },
  {
   "cell_type": "code",
   "execution_count": 27,
   "metadata": {},
   "outputs": [
    {
     "data": {
      "text/latex": [
       "$\\displaystyle - 3 x^{2} \\sin{\\left(y \\right)} - \\cos{\\left(y \\right)}$"
      ],
      "text/plain": [
       "-3*x**2*sin(y) - cos(y)"
      ]
     },
     "execution_count": 27,
     "metadata": {},
     "output_type": "execute_result"
    }
   ],
   "source": [
    "jy_x = diff(fxy_y, x)\n",
    "jy_x"
   ]
  },
  {
   "cell_type": "code",
   "execution_count": 28,
   "metadata": {},
   "outputs": [
    {
     "data": {
      "text/latex": [
       "$\\displaystyle - x^{3} \\cos{\\left(y \\right)} + x \\sin{\\left(y \\right)}$"
      ],
      "text/plain": [
       "-x**3*cos(y) + x*sin(y)"
      ]
     },
     "execution_count": 28,
     "metadata": {},
     "output_type": "execute_result"
    }
   ],
   "source": [
    "jy_y = diff(fxy_y, y)\n",
    "jy_y"
   ]
  },
  {
   "cell_type": "code",
   "execution_count": 29,
   "metadata": {},
   "outputs": [
    {
     "data": {
      "text/latex": [
       "$\\displaystyle \\left[\\begin{matrix}6 x \\cos{\\left(y \\right)} & - 3 x^{2} \\sin{\\left(y \\right)} - \\cos{\\left(y \\right)}\\\\- 3 x^{2} \\sin{\\left(y \\right)} - \\cos{\\left(y \\right)} & - x^{3} \\cos{\\left(y \\right)} + x \\sin{\\left(y \\right)}\\end{matrix}\\right]$"
      ],
      "text/plain": [
       "Matrix([\n",
       "[             6*x*cos(y), -3*x**2*sin(y) - cos(y)],\n",
       "[-3*x**2*sin(y) - cos(y), -x**3*cos(y) + x*sin(y)]])"
      ]
     },
     "execution_count": 29,
     "metadata": {},
     "output_type": "execute_result"
    }
   ],
   "source": [
    "Hessians = Matrix([[jx_x, jx_y],\n",
    "                   [jy_x, jy_y]])\n",
    "Hessians"
   ]
  },
  {
   "cell_type": "markdown",
   "metadata": {},
   "source": [
    "**Question 4**"
   ]
  },
  {
   "cell_type": "code",
   "execution_count": 30,
   "metadata": {},
   "outputs": [
    {
     "data": {
      "text/latex": [
       "$\\displaystyle e^{x} z^{3} + x y + \\sin{\\left(y \\right)} \\sin{\\left(z \\right)}$"
      ],
      "text/plain": [
       "e**x*z**3 + x*y + sin(y)*sin(z)"
      ]
     },
     "execution_count": 30,
     "metadata": {},
     "output_type": "execute_result"
    }
   ],
   "source": [
    "fxyz = x*y + sin(y) * sin(z) + z**3*e**x\n",
    "fxyz"
   ]
  },
  {
   "cell_type": "code",
   "execution_count": 31,
   "metadata": {},
   "outputs": [
    {
     "data": {
      "text/latex": [
       "$\\displaystyle e^{x} z^{3} \\log{\\left(e \\right)} + y$"
      ],
      "text/plain": [
       "e**x*z**3*log(e) + y"
      ]
     },
     "execution_count": 31,
     "metadata": {},
     "output_type": "execute_result"
    }
   ],
   "source": [
    "fxyz_x = diff(fxyz, x)\n",
    "fxyz_x"
   ]
  },
  {
   "cell_type": "code",
   "execution_count": 32,
   "metadata": {},
   "outputs": [
    {
     "data": {
      "text/latex": [
       "$\\displaystyle x + \\sin{\\left(z \\right)} \\cos{\\left(y \\right)}$"
      ],
      "text/plain": [
       "x + sin(z)*cos(y)"
      ]
     },
     "execution_count": 32,
     "metadata": {},
     "output_type": "execute_result"
    }
   ],
   "source": [
    "fxyz_y = diff(fxyz, y)\n",
    "fxyz_y"
   ]
  },
  {
   "cell_type": "code",
   "execution_count": 33,
   "metadata": {},
   "outputs": [
    {
     "data": {
      "text/latex": [
       "$\\displaystyle 3 e^{x} z^{2} + \\sin{\\left(y \\right)} \\cos{\\left(z \\right)}$"
      ],
      "text/plain": [
       "3*e**x*z**2 + sin(y)*cos(z)"
      ]
     },
     "execution_count": 33,
     "metadata": {},
     "output_type": "execute_result"
    }
   ],
   "source": [
    "fxyz_z = diff(fxyz, z)\n",
    "fxyz_z"
   ]
  },
  {
   "cell_type": "code",
   "execution_count": 34,
   "metadata": {},
   "outputs": [
    {
     "data": {
      "text/latex": [
       "$\\displaystyle \\left[\\begin{matrix}e^{x} z^{3} \\log{\\left(e \\right)} + y & x + \\sin{\\left(z \\right)} \\cos{\\left(y \\right)} & 3 e^{x} z^{2} + \\sin{\\left(y \\right)} \\cos{\\left(z \\right)}\\end{matrix}\\right]$"
      ],
      "text/plain": [
       "Matrix([[e**x*z**3*log(e) + y, x + sin(z)*cos(y), 3*e**x*z**2 + sin(y)*cos(z)]])"
      ]
     },
     "execution_count": 34,
     "metadata": {},
     "output_type": "execute_result"
    }
   ],
   "source": [
    "Jacobians = Matrix([[fxyz_x, fxyz_y, fxyz_z]])\n",
    "Jacobians"
   ]
  },
  {
   "cell_type": "code",
   "execution_count": 35,
   "metadata": {},
   "outputs": [
    {
     "data": {
      "text/latex": [
       "$\\displaystyle e^{x} z^{3} \\log{\\left(e \\right)}^{2}$"
      ],
      "text/plain": [
       "e**x*z**3*log(e)**2"
      ]
     },
     "execution_count": 35,
     "metadata": {},
     "output_type": "execute_result"
    }
   ],
   "source": [
    "jx_x = diff(fxyz_x, x)\n",
    "jx_x"
   ]
  },
  {
   "cell_type": "code",
   "execution_count": 36,
   "metadata": {},
   "outputs": [
    {
     "data": {
      "text/latex": [
       "$\\displaystyle 1$"
      ],
      "text/plain": [
       "1"
      ]
     },
     "execution_count": 36,
     "metadata": {},
     "output_type": "execute_result"
    }
   ],
   "source": [
    "jx_y = diff(fxyz_x, y)\n",
    "jx_y"
   ]
  },
  {
   "cell_type": "code",
   "execution_count": 37,
   "metadata": {},
   "outputs": [
    {
     "data": {
      "text/latex": [
       "$\\displaystyle 3 e^{x} z^{2} \\log{\\left(e \\right)}$"
      ],
      "text/plain": [
       "3*e**x*z**2*log(e)"
      ]
     },
     "execution_count": 37,
     "metadata": {},
     "output_type": "execute_result"
    }
   ],
   "source": [
    "jx_z = diff(fxyz_x, z)\n",
    "jx_z"
   ]
  },
  {
   "cell_type": "code",
   "execution_count": 38,
   "metadata": {},
   "outputs": [
    {
     "data": {
      "text/latex": [
       "$\\displaystyle 1$"
      ],
      "text/plain": [
       "1"
      ]
     },
     "execution_count": 38,
     "metadata": {},
     "output_type": "execute_result"
    }
   ],
   "source": [
    "jy_x = diff(fxyz_y, x)\n",
    "jy_x"
   ]
  },
  {
   "cell_type": "code",
   "execution_count": 39,
   "metadata": {},
   "outputs": [
    {
     "data": {
      "text/latex": [
       "$\\displaystyle - \\sin{\\left(y \\right)} \\sin{\\left(z \\right)}$"
      ],
      "text/plain": [
       "-sin(y)*sin(z)"
      ]
     },
     "execution_count": 39,
     "metadata": {},
     "output_type": "execute_result"
    }
   ],
   "source": [
    "jy_y = diff(fxyz_y, y)\n",
    "jy_y"
   ]
  },
  {
   "cell_type": "code",
   "execution_count": 40,
   "metadata": {},
   "outputs": [
    {
     "data": {
      "text/latex": [
       "$\\displaystyle \\cos{\\left(y \\right)} \\cos{\\left(z \\right)}$"
      ],
      "text/plain": [
       "cos(y)*cos(z)"
      ]
     },
     "execution_count": 40,
     "metadata": {},
     "output_type": "execute_result"
    }
   ],
   "source": [
    "jy_z = diff(fxyz_y, z)\n",
    "jy_z"
   ]
  },
  {
   "cell_type": "code",
   "execution_count": 41,
   "metadata": {},
   "outputs": [
    {
     "data": {
      "text/latex": [
       "$\\displaystyle 3 e^{x} z^{2} \\log{\\left(e \\right)}$"
      ],
      "text/plain": [
       "3*e**x*z**2*log(e)"
      ]
     },
     "execution_count": 41,
     "metadata": {},
     "output_type": "execute_result"
    }
   ],
   "source": [
    "jz_x = diff(fxyz_z, x)\n",
    "jz_x"
   ]
  },
  {
   "cell_type": "code",
   "execution_count": 42,
   "metadata": {},
   "outputs": [
    {
     "data": {
      "text/latex": [
       "$\\displaystyle \\cos{\\left(y \\right)} \\cos{\\left(z \\right)}$"
      ],
      "text/plain": [
       "cos(y)*cos(z)"
      ]
     },
     "execution_count": 42,
     "metadata": {},
     "output_type": "execute_result"
    }
   ],
   "source": [
    "jz_y = diff(fxyz_z, y)\n",
    "jz_y"
   ]
  },
  {
   "cell_type": "code",
   "execution_count": 43,
   "metadata": {},
   "outputs": [
    {
     "data": {
      "text/latex": [
       "$\\displaystyle 6 e^{x} z - \\sin{\\left(y \\right)} \\sin{\\left(z \\right)}$"
      ],
      "text/plain": [
       "6*e**x*z - sin(y)*sin(z)"
      ]
     },
     "execution_count": 43,
     "metadata": {},
     "output_type": "execute_result"
    }
   ],
   "source": [
    "jz_z = diff(fxyz_z, z)\n",
    "jz_z"
   ]
  },
  {
   "cell_type": "code",
   "execution_count": 44,
   "metadata": {},
   "outputs": [
    {
     "data": {
      "text/latex": [
       "$\\displaystyle \\left[\\begin{matrix}e^{x} z^{3} \\log{\\left(e \\right)}^{2} & 1 & 3 e^{x} z^{2} \\log{\\left(e \\right)}\\\\1 & - \\sin{\\left(y \\right)} \\sin{\\left(z \\right)} & \\cos{\\left(y \\right)} \\cos{\\left(z \\right)}\\\\3 e^{x} z^{2} \\log{\\left(e \\right)} & \\cos{\\left(y \\right)} \\cos{\\left(z \\right)} & 6 e^{x} z - \\sin{\\left(y \\right)} \\sin{\\left(z \\right)}\\end{matrix}\\right]$"
      ],
      "text/plain": [
       "Matrix([\n",
       "[e**x*z**3*log(e)**2,              1,       3*e**x*z**2*log(e)],\n",
       "[                  1, -sin(y)*sin(z),            cos(y)*cos(z)],\n",
       "[ 3*e**x*z**2*log(e),  cos(y)*cos(z), 6*e**x*z - sin(y)*sin(z)]])"
      ]
     },
     "execution_count": 44,
     "metadata": {},
     "output_type": "execute_result"
    }
   ],
   "source": [
    "Hessians = Matrix([[jx_x, jx_y, jx_z],\n",
    "                   [jy_x, jy_y, jy_z],\n",
    "                   [jz_x, jz_y, jz_z]])\n",
    "Hessians"
   ]
  },
  {
   "cell_type": "markdown",
   "metadata": {},
   "source": [
    "**Question 5**"
   ]
  },
  {
   "cell_type": "code",
   "execution_count": 45,
   "metadata": {},
   "outputs": [
    {
     "data": {
      "text/latex": [
       "$\\displaystyle - e^{y} z^{3} \\sin{\\left(x \\right)} + x y \\cos{\\left(z \\right)}$"
      ],
      "text/plain": [
       "-e**y*z**3*sin(x) + x*y*cos(z)"
      ]
     },
     "execution_count": 45,
     "metadata": {},
     "output_type": "execute_result"
    }
   ],
   "source": [
    "fxyz = x*y*cos(z) - sin(x)*e**y*z**3\n",
    "fxyz"
   ]
  },
  {
   "cell_type": "code",
   "execution_count": 46,
   "metadata": {},
   "outputs": [
    {
     "data": {
      "text/latex": [
       "$\\displaystyle - e^{y} z^{3} \\cos{\\left(x \\right)} + y \\cos{\\left(z \\right)}$"
      ],
      "text/plain": [
       "-e**y*z**3*cos(x) + y*cos(z)"
      ]
     },
     "execution_count": 46,
     "metadata": {},
     "output_type": "execute_result"
    }
   ],
   "source": [
    "fxyz_x = diff(fxyz, x)\n",
    "fxyz_x"
   ]
  },
  {
   "cell_type": "code",
   "execution_count": 47,
   "metadata": {},
   "outputs": [
    {
     "data": {
      "text/latex": [
       "$\\displaystyle - e^{y} z^{3} \\log{\\left(e \\right)} \\sin{\\left(x \\right)} + x \\cos{\\left(z \\right)}$"
      ],
      "text/plain": [
       "-e**y*z**3*log(e)*sin(x) + x*cos(z)"
      ]
     },
     "execution_count": 47,
     "metadata": {},
     "output_type": "execute_result"
    }
   ],
   "source": [
    "fxyz_y = diff(fxyz, y)\n",
    "fxyz_y"
   ]
  },
  {
   "cell_type": "code",
   "execution_count": 48,
   "metadata": {},
   "outputs": [
    {
     "data": {
      "text/latex": [
       "$\\displaystyle - 3 e^{y} z^{2} \\sin{\\left(x \\right)} - x y \\sin{\\left(z \\right)}$"
      ],
      "text/plain": [
       "-3*e**y*z**2*sin(x) - x*y*sin(z)"
      ]
     },
     "execution_count": 48,
     "metadata": {},
     "output_type": "execute_result"
    }
   ],
   "source": [
    "fxyz_z = diff(fxyz, z)\n",
    "fxyz_z"
   ]
  },
  {
   "cell_type": "code",
   "execution_count": 49,
   "metadata": {},
   "outputs": [
    {
     "data": {
      "text/latex": [
       "$\\displaystyle \\left[\\begin{matrix}e^{x} z^{3} \\log{\\left(e \\right)} + y & x + \\sin{\\left(z \\right)} \\cos{\\left(y \\right)} & 3 e^{x} z^{2} + \\sin{\\left(y \\right)} \\cos{\\left(z \\right)}\\end{matrix}\\right]$"
      ],
      "text/plain": [
       "Matrix([[e**x*z**3*log(e) + y, x + sin(z)*cos(y), 3*e**x*z**2 + sin(y)*cos(z)]])"
      ]
     },
     "execution_count": 49,
     "metadata": {},
     "output_type": "execute_result"
    }
   ],
   "source": [
    "Jacobians"
   ]
  },
  {
   "cell_type": "code",
   "execution_count": 50,
   "metadata": {},
   "outputs": [
    {
     "data": {
      "text/latex": [
       "$\\displaystyle e^{y} z^{3} \\sin{\\left(x \\right)}$"
      ],
      "text/plain": [
       "e**y*z**3*sin(x)"
      ]
     },
     "execution_count": 50,
     "metadata": {},
     "output_type": "execute_result"
    }
   ],
   "source": [
    "jx_x = diff(fxyz_x, x)\n",
    "jx_x"
   ]
  },
  {
   "cell_type": "code",
   "execution_count": 51,
   "metadata": {},
   "outputs": [
    {
     "data": {
      "text/latex": [
       "$\\displaystyle 0$"
      ],
      "text/plain": [
       "0"
      ]
     },
     "execution_count": 51,
     "metadata": {},
     "output_type": "execute_result"
    }
   ],
   "source": [
    "jxx = jx_x.subs(x, 0).subs(y, 0).subs(z, 0)\n",
    "jxx"
   ]
  },
  {
   "cell_type": "code",
   "execution_count": 52,
   "metadata": {},
   "outputs": [
    {
     "data": {
      "text/latex": [
       "$\\displaystyle - e^{y} z^{3} \\log{\\left(e \\right)} \\cos{\\left(x \\right)} + \\cos{\\left(z \\right)}$"
      ],
      "text/plain": [
       "-e**y*z**3*log(e)*cos(x) + cos(z)"
      ]
     },
     "execution_count": 52,
     "metadata": {},
     "output_type": "execute_result"
    }
   ],
   "source": [
    "jx_y = diff(fxyz_x, y)\n",
    "jx_y"
   ]
  },
  {
   "cell_type": "code",
   "execution_count": 53,
   "metadata": {},
   "outputs": [
    {
     "data": {
      "text/latex": [
       "$\\displaystyle 1$"
      ],
      "text/plain": [
       "1"
      ]
     },
     "execution_count": 53,
     "metadata": {},
     "output_type": "execute_result"
    }
   ],
   "source": [
    "jxy = jx_y.subs(x, 0).subs(y, 0).subs(z, 0)\n",
    "jxy"
   ]
  },
  {
   "cell_type": "code",
   "execution_count": 54,
   "metadata": {},
   "outputs": [
    {
     "data": {
      "text/latex": [
       "$\\displaystyle - 3 e^{y} z^{2} \\cos{\\left(x \\right)} - y \\sin{\\left(z \\right)}$"
      ],
      "text/plain": [
       "-3*e**y*z**2*cos(x) - y*sin(z)"
      ]
     },
     "execution_count": 54,
     "metadata": {},
     "output_type": "execute_result"
    }
   ],
   "source": [
    "jx_z = diff(fxyz_x, z)\n",
    "jx_z"
   ]
  },
  {
   "cell_type": "code",
   "execution_count": 55,
   "metadata": {},
   "outputs": [
    {
     "data": {
      "text/latex": [
       "$\\displaystyle 0$"
      ],
      "text/plain": [
       "0"
      ]
     },
     "execution_count": 55,
     "metadata": {},
     "output_type": "execute_result"
    }
   ],
   "source": [
    "jxz = jx_z.subs(x, 0).subs(y, 0).subs(z, 0)\n",
    "jxz"
   ]
  },
  {
   "cell_type": "code",
   "execution_count": 57,
   "metadata": {},
   "outputs": [
    {
     "data": {
      "text/latex": [
       "$\\displaystyle - e^{y} z^{3} \\log{\\left(e \\right)} \\cos{\\left(x \\right)} + \\cos{\\left(z \\right)}$"
      ],
      "text/plain": [
       "-e**y*z**3*log(e)*cos(x) + cos(z)"
      ]
     },
     "execution_count": 57,
     "metadata": {},
     "output_type": "execute_result"
    }
   ],
   "source": [
    "jy_x = diff(fxyz_y, x)\n",
    "jy_x"
   ]
  },
  {
   "cell_type": "code",
   "execution_count": 58,
   "metadata": {},
   "outputs": [
    {
     "data": {
      "text/latex": [
       "$\\displaystyle 1$"
      ],
      "text/plain": [
       "1"
      ]
     },
     "execution_count": 58,
     "metadata": {},
     "output_type": "execute_result"
    }
   ],
   "source": [
    "jyx = jy_x.subs(x, 0).subs(y, 0).subs(z, 0)\n",
    "jyx"
   ]
  },
  {
   "cell_type": "code",
   "execution_count": 59,
   "metadata": {},
   "outputs": [
    {
     "data": {
      "text/latex": [
       "$\\displaystyle - e^{y} z^{3} \\log{\\left(e \\right)}^{2} \\sin{\\left(x \\right)}$"
      ],
      "text/plain": [
       "-e**y*z**3*log(e)**2*sin(x)"
      ]
     },
     "execution_count": 59,
     "metadata": {},
     "output_type": "execute_result"
    }
   ],
   "source": [
    "jy_y = diff(fxyz_y, y)\n",
    "jy_y"
   ]
  },
  {
   "cell_type": "code",
   "execution_count": 60,
   "metadata": {},
   "outputs": [
    {
     "data": {
      "text/latex": [
       "$\\displaystyle 0$"
      ],
      "text/plain": [
       "0"
      ]
     },
     "execution_count": 60,
     "metadata": {},
     "output_type": "execute_result"
    }
   ],
   "source": [
    "jyy = jy_y.subs(x, 0).subs(y, 0).subs(z, 0)\n",
    "jyy"
   ]
  },
  {
   "cell_type": "code",
   "execution_count": 61,
   "metadata": {},
   "outputs": [
    {
     "data": {
      "text/latex": [
       "$\\displaystyle - 3 e^{y} z^{2} \\log{\\left(e \\right)} \\sin{\\left(x \\right)} - x \\sin{\\left(z \\right)}$"
      ],
      "text/plain": [
       "-3*e**y*z**2*log(e)*sin(x) - x*sin(z)"
      ]
     },
     "execution_count": 61,
     "metadata": {},
     "output_type": "execute_result"
    }
   ],
   "source": [
    "jy_z = diff(fxyz_y, z)\n",
    "jy_z"
   ]
  },
  {
   "cell_type": "code",
   "execution_count": 62,
   "metadata": {},
   "outputs": [
    {
     "data": {
      "text/latex": [
       "$\\displaystyle 0$"
      ],
      "text/plain": [
       "0"
      ]
     },
     "execution_count": 62,
     "metadata": {},
     "output_type": "execute_result"
    }
   ],
   "source": [
    "jyz = jy_z.subs(x, 0).subs(y, 0).subs(z, 0)\n",
    "jyz"
   ]
  },
  {
   "cell_type": "code",
   "execution_count": 63,
   "metadata": {},
   "outputs": [
    {
     "data": {
      "text/latex": [
       "$\\displaystyle - 3 e^{y} z^{2} \\cos{\\left(x \\right)} - y \\sin{\\left(z \\right)}$"
      ],
      "text/plain": [
       "-3*e**y*z**2*cos(x) - y*sin(z)"
      ]
     },
     "execution_count": 63,
     "metadata": {},
     "output_type": "execute_result"
    }
   ],
   "source": [
    "jz_x = diff(fxyz_z, x)\n",
    "jz_x"
   ]
  },
  {
   "cell_type": "code",
   "execution_count": 64,
   "metadata": {},
   "outputs": [
    {
     "data": {
      "text/latex": [
       "$\\displaystyle 0$"
      ],
      "text/plain": [
       "0"
      ]
     },
     "execution_count": 64,
     "metadata": {},
     "output_type": "execute_result"
    }
   ],
   "source": [
    "jzx = jz_x.subs(x, 0).subs(y, 0).subs(z, 0)\n",
    "jzx"
   ]
  },
  {
   "cell_type": "code",
   "execution_count": 65,
   "metadata": {},
   "outputs": [
    {
     "data": {
      "text/latex": [
       "$\\displaystyle - 3 e^{y} z^{2} \\log{\\left(e \\right)} \\sin{\\left(x \\right)} - x \\sin{\\left(z \\right)}$"
      ],
      "text/plain": [
       "-3*e**y*z**2*log(e)*sin(x) - x*sin(z)"
      ]
     },
     "execution_count": 65,
     "metadata": {},
     "output_type": "execute_result"
    }
   ],
   "source": [
    "jz_y = diff(fxyz_z, y)\n",
    "jz_y"
   ]
  },
  {
   "cell_type": "code",
   "execution_count": 67,
   "metadata": {},
   "outputs": [
    {
     "data": {
      "text/latex": [
       "$\\displaystyle 0$"
      ],
      "text/plain": [
       "0"
      ]
     },
     "execution_count": 67,
     "metadata": {},
     "output_type": "execute_result"
    }
   ],
   "source": [
    "jzy = jz_y.subs(x, 0).subs(y, 0).subs(z, 0)\n",
    "jzy"
   ]
  },
  {
   "cell_type": "code",
   "execution_count": 68,
   "metadata": {},
   "outputs": [
    {
     "data": {
      "text/latex": [
       "$\\displaystyle - 6 e^{y} z \\sin{\\left(x \\right)} - x y \\cos{\\left(z \\right)}$"
      ],
      "text/plain": [
       "-6*e**y*z*sin(x) - x*y*cos(z)"
      ]
     },
     "execution_count": 68,
     "metadata": {},
     "output_type": "execute_result"
    }
   ],
   "source": [
    "jz_z = diff(fxyz_z, z)\n",
    "jz_z"
   ]
  },
  {
   "cell_type": "code",
   "execution_count": 69,
   "metadata": {},
   "outputs": [
    {
     "data": {
      "text/latex": [
       "$\\displaystyle 0$"
      ],
      "text/plain": [
       "0"
      ]
     },
     "execution_count": 69,
     "metadata": {},
     "output_type": "execute_result"
    }
   ],
   "source": [
    "jzz = jz_z.subs(x, 0).subs(y, 0).subs(z, 0)\n",
    "jzz"
   ]
  },
  {
   "cell_type": "code",
   "execution_count": 70,
   "metadata": {},
   "outputs": [
    {
     "data": {
      "text/latex": [
       "$\\displaystyle \\left[\\begin{matrix}0 & 1 & 0\\\\1 & 0 & 0\\\\0 & 0 & 0\\end{matrix}\\right]$"
      ],
      "text/plain": [
       "Matrix([\n",
       "[0, 1, 0],\n",
       "[1, 0, 0],\n",
       "[0, 0, 0]])"
      ]
     },
     "execution_count": 70,
     "metadata": {},
     "output_type": "execute_result"
    }
   ],
   "source": [
    "Hessians = Matrix([[jxx, jxy, jxz],\n",
    "                   [jyx, jyy, jyz],\n",
    "                   [jzx, jzy, jzz]])\n",
    "Hessians"
   ]
  },
  {
   "cell_type": "code",
   "execution_count": null,
   "metadata": {},
   "outputs": [],
   "source": []
  }
 ],
 "metadata": {
  "kernelspec": {
   "display_name": "Python 3",
   "language": "python",
   "name": "python3"
  },
  "language_info": {
   "codemirror_mode": {
    "name": "ipython",
    "version": 3
   },
   "file_extension": ".py",
   "mimetype": "text/x-python",
   "name": "python",
   "nbconvert_exporter": "python",
   "pygments_lexer": "ipython3",
   "version": "3.8.3"
  }
 },
 "nbformat": 4,
 "nbformat_minor": 4
}
